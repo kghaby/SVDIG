{
 "cells": [
  {
   "cell_type": "code",
   "execution_count": 184,
   "id": "105adf37-8347-43af-857a-0c2321546ff3",
   "metadata": {},
   "outputs": [],
   "source": [
    "#!/usr/bin/env python3\n",
    "import os\n",
    "import sys\n",
    "import re\n",
    "from Bio import AlignIO\n",
    "\n",
    "af = \"../mcm_test/pdb_bank/aligned/alignment_files/align_output.fasta\" #sys.argv[1]\n",
    "args=[\"902:1101\",\"1735:1956\",\"2608:2703\",\"3495:3633\",\"4189:4289\",\"4891:5073\"]\n",
    "\n",
    "\n",
    "#translate numbers\n",
    "i_start_list=list()\n",
    "i_stop_list=list()\n",
    "align = AlignIO.read(af, \"fasta\") \n",
    "pdbid=\"3JA8_stndrd\" #os.environ[\"id\"]\n",
    "pdb=pdbid + \".pdb\"\n",
    "sequence=\"\"\n",
    "res_tick=0\n",
    "tick=0\n",
    "psuedo_n=0\n",
    "translated=list()\n",
    "\n",
    "\n",
    "for record in align:\n",
    "    if record.id == pdbid:\n",
    "        #get i set from residue_range\n",
    "        for i in args: #sys.argv[2:]\n",
    "            i_split=re.split(':', i)\n",
    "            i_start=int(i_split[0])-1 #-1 because splice # takes places after character #\n",
    "            i_stop=int(i_split[1])\n",
    "            i_start_list.append(i_start+1)\n",
    "            i_stop_list.append(i_stop)\n",
    "            #spliced = record.seq[i_start:i_stop]\n",
    "            #sequence=sequence+spliced\n",
    "        #translate alignment column # to pdb res #\n",
    "        for n in range(1, i_stop_list[-1]+1):\n",
    "            subtractor=0 #the amount of gaps in the last encountered stretch of gaps\n",
    "            #count residues \n",
    "            if record.seq[n-1:n] == '-':\n",
    "                if n == i_start_list[tick]:\n",
    "                    res_tick=res_tick+1\n",
    "                else:\n",
    "                    pass\n",
    "            else:\n",
    "                res_tick=res_tick+1\n",
    "            #put important residues in pdb\n",
    "            if n == i_start_list[tick]:  \n",
    "                for x in range(res_tick, (res_tick+\n",
    "                                (1+i_stop_list[tick]-i_start_list[tick]))):\n",
    "                    if psuedo_n < n:\n",
    "                        psuedo_n=n\n",
    "                    if record.seq[psuedo_n-1:psuedo_n] == '-':\n",
    "                        subtractor=subtractor+1\n",
    "                        translated.append(\"GAP\")\n",
    "                        #pass\n",
    "                    else:\n",
    "                        if subtractor==0:\n",
    "                            res=x\n",
    "                        else:\n",
    "                            res=x-subtractor\n",
    "                        translated.append(res)\n",
    "                    psuedo_n=psuedo_n+1\n",
    "                tick=tick+1\n",
    "                if tick+1 > len(i_start_list):\n",
    "                    break\n",
    "#write new pdb         \n",
    "if not translated:\n",
    "    print(pdbid,\" does not contain any residues in the specified range. Omitting from rest of process\")\n",
    "    os.remove(pdb)\n",
    "    sys.exit()\n",
    "newpdb=pdbid + \"-cut\" + \".pdb\"\n",
    "f = open(newpdb, \"w\")\n",
    "pdbfile = open(pdb, 'r')\n",
    "prev_t=translated[0]\n",
    "#for x in range(len(translated)): #find first non-GAP t\n",
    "#    if prev_t == 'GAP':\n",
    "#        prev_t=translated[x]\n",
    "#    if prev_t != 'GAP':\n",
    "#        break\n",
    "ter=False\n",
    "prev_t_index=0\n",
    "terline='TER'+' '*77\n",
    "gapchain=1\n",
    "gapres=-1\n",
    "prev_chain=None\n",
    "#gapline='ATOM      0  X   GAP 0   0       nan     nan     nan    nan   nan'\n",
    "def gapline_func(gapchain,gapres):\n",
    "    gapline='ATOM      0  X   GAP '+str(gapchain)+str(gapres).rjust(4)+'       nan     nan     nan    nan   nan'\n",
    "    return gapline\n",
    "gapped=False\n",
    "for line in pdbfile:\n",
    "    if line.startswith('ATOM'):\n",
    "        for t in translated:\n",
    "            if int(line[22:26]) == t:\n",
    "                if prev_chain == None: #name chain for getchain \n",
    "                    gapchain=line[21]\n",
    "                elif prev_chain != line[21]:\n",
    "                    gapchain=prev_chain\n",
    "                elif prev_chain == line[21]:\n",
    "                    gapchain=line[21]\n",
    "                if prev_t != t:\n",
    "                    if prev_t != 'GAP':\n",
    "                        prev_t_index=prev_t_index+1\n",
    "                    gapped=False\n",
    "                    for x in range(len(translated)):\n",
    "                        if 'GAP' == translated[prev_t_index]:\n",
    "                            if not ter:    #prevents double TER\n",
    "                                f.write(terline+'\\n')\n",
    "                                ter=True\n",
    "                            if gapres==-1: #alternate gapres so each gap comes out as a different res when renaming res's\n",
    "                                gapres=-2\n",
    "                            elif gapres==-2:\n",
    "                                gapres=-1\n",
    "                            f.write(gapline_func(gapchain,gapres)+'\\n')\n",
    "                            prev_t_index=prev_t_index+1\n",
    "                            gapped=True\n",
    "                    if gapped: #write ter at the end of gap streak\n",
    "                            f.write(terline+'\\n')\n",
    "                            ter=True\n",
    "                    if prev_t != 'GAP':\n",
    "                        if t != prev_t+1:\n",
    "                                if not ter:    #prevents double TER\n",
    "                                    f.write(terline+'\\n')\n",
    "                                    ter=True\n",
    "                                    realter=False\n",
    "                prev_t=t\n",
    "                prev_chain=line[21]\n",
    "                f.write(line)\n",
    "                ter=False\n",
    "                realter=False\n",
    "            else:\n",
    "                continue\n",
    "    elif line.startswith('TER'):\n",
    "        if not ter:\n",
    "            f.write(terline+'\\n')\n",
    "            realter=True\n",
    "            ter=True\n",
    "    else:\n",
    "        print(\"potentially strange line:\",line)\n",
    "        f.write('\\n')\n",
    "\n",
    "#write terminal gap streak\n",
    "if prev_t != 'GAP':\n",
    "    prev_t_index=prev_t_index+1\n",
    "for x in range(len(translated)):\n",
    "    try:\n",
    "        if 'GAP' == translated[prev_t_index]:\n",
    "            if not ter:    #prevents double TER\n",
    "                f.write(terline+'\\n')\n",
    "                ter=True\n",
    "            if gapres==-1: #alternate gapres so each gap comes out as a different res when renaming res's\n",
    "                gapres=-2\n",
    "            elif gapres==-2:\n",
    "                gapres=-1\n",
    "            f.write(gapline_func(gapchain,gapres)+'\\n')\n",
    "            prev_t_index=prev_t_index+1\n",
    "            gapped=True\n",
    "    except:\n",
    "        break\n",
    "if gapped: #write ter at the end of gap streak\n",
    "        f.write(terline+'\\n')\n",
    "        ter=True\n",
    "        \n",
    "f.close()    \n"
   ]
  },
  {
   "cell_type": "code",
   "execution_count": 216,
   "id": "96a5c9c7-6807-4e9c-b211-816e279fddbc",
   "metadata": {},
   "outputs": [],
   "source": [
    "#!/usr/bin/env python3\n",
    "import os\n",
    "import sys\n",
    "import re\n",
    "from Bio import AlignIO\n",
    "\n",
    "af = \"../mcm_test/pdb_bank/aligned/alignment_files/align_output.fasta\" #sys.argv[1]\n",
    "align = AlignIO.read(af, \"fasta\") \n",
    "pdbid=\"3JA8_stndrd\" #os.environ[\"id\"]\n",
    "pdb=pdbid + \".pdb\"\n",
    "prev_length=\"oogabooga\"\n",
    "\n",
    "atomlist = [\"N\",\"CA\",\"C\",\"O\"] #sys.argv[2:]\n",
    "\n",
    "#get alignment length and check to make sure its the same for each row\n",
    "for record in align:\n",
    "    if prev_length != \"oogabooga\":\n",
    "        if len(record.seq) != prev_length:\n",
    "            emsg = 'ERROR: rows in alignment output file differ in length\\n'\n",
    "            sys.stderr.write(emsg)\n",
    "            sys.exit(1)\n",
    "    if record.id == pdbid:\n",
    "        alignment_length=len(record.seq)\n",
    "    prev_length=len(record.seq)\n",
    "    \n",
    "if alignment_length > 9999:\n",
    "            emsg = 'ERROR: alignment length is greater than 9999, so it cannot fit in 1 pdb\\n'\n",
    "            sys.stderr.write(emsg)\n",
    "            sys.exit(1)\n",
    "\n",
    "#write new pdb         \n",
    "newpdb=pdbid + \"_withgaps\" + \".pdb\"\n",
    "f = open(newpdb, \"w\")\n",
    "pdbfh = open(pdb, 'r')\n",
    "ter=False\n",
    "terline='TER'+' '*77\n",
    "gapchain=1\n",
    "gapres=-1\n",
    "gapatom='X'\n",
    "prev_chain=None\n",
    "col_index=1\n",
    "prev_res=99999999\n",
    "#gapline='ATOM      0  X   GAP 0   0       nan     nan     nan    nan   nan'\n",
    "def gapline_func(gapchain,gapres,gapatom):\n",
    "    gapline='ATOM      0  '+str(gapatom).ljust(3)+' GAP '+str(gapchain)+str(gapres).rjust(4)+'       nan     nan     nan    nan   nan'\n",
    "    return gapline\n",
    "gapped=False\n",
    "for record in align:\n",
    "    if record.id == pdbid:\n",
    "        for line in pdbfh:\n",
    "            if line.startswith('ATOM'):\n",
    "                if line[12:16].strip() not in atomlist:\n",
    "                    continue\n",
    "                if prev_res==int(line[22:26]): #if same res, write line and avoid iterating through alignment columns\n",
    "                    f.write(line)\n",
    "                    ter=False\n",
    "                    gapped=False\n",
    "                    continue\n",
    "                for n in range(col_index, alignment_length+1):\n",
    "                    if record.seq[n-1:n] == '-':\n",
    "                        #write gapline\n",
    "                        if prev_chain == None: #name chain for getchain \n",
    "                            gapchain=line[21]\n",
    "                        elif prev_chain != line[21]:\n",
    "                            gapchain=prev_chain\n",
    "                        elif prev_chain == line[21]:\n",
    "                            gapchain=line[21]\n",
    "                        if not ter:    #write TER at start of gap streak if there isnt one already\n",
    "                            f.write(terline+'\\n')\n",
    "                            ter=True\n",
    "                        if gapres==-1: #alternate gapres so each gap comes out as a different res when renaming res's\n",
    "                            gapres=-2\n",
    "                        elif gapres==-2:\n",
    "                            gapres=-1\n",
    "                        for gapatom in atomlist: \n",
    "                            f.write(gapline_func(gapchain,gapres,gapatom)+'\\n')\n",
    "                        col_index=col_index+1\n",
    "                        gapped=True\n",
    "                    else:\n",
    "                        if gapped: #write ter at the end of gap streak\n",
    "                            f.write(terline+'\\n')\n",
    "                            ter=True\n",
    "                        #write line\n",
    "                        prev_chain=line[21]\n",
    "                        f.write(line)\n",
    "                        prev_res=int(line[22:26])\n",
    "                        gapped=False\n",
    "                        col_index=col_index+1\n",
    "                        ter=False\n",
    "                        break\n",
    "            elif line.startswith('TER'):\n",
    "                if not ter:\n",
    "                    f.write(terline+'\\n')\n",
    "                    ter=True\n",
    "            else:\n",
    "                print(\"potentially strange line:\",line)\n",
    "                f.write('\\n')\n",
    "                continue\n",
    "        #write term gaps\n",
    "        gapchain=prev_chain\n",
    "        for n in range(col_index, alignment_length+1):\n",
    "            if record.seq[n-1:n] == '-':\n",
    "                if not ter:    #write TER at start of gap streak if there isnt one already\n",
    "                    f.write(terline+'\\n')\n",
    "                    ter=True\n",
    "                if gapres==-1: #alternate gapres so each gap comes out as a different res when renaming res's\n",
    "                    gapres=-2\n",
    "                elif gapres==-2:\n",
    "                    gapres=-1\n",
    "                for gapatom in atomlist: \n",
    "                    f.write(gapline_func(gapchain,gapres,gapatom)+'\\n')\n",
    "                col_index=col_index+1\n",
    "                gapped=True\n",
    "            else:\n",
    "                emsg = 'ERROR: there are non-gap columns after the last line in pdb {} \\n'.format(pdbid)\n",
    "                sys.stderr.write(emsg)\n",
    "                sys.exit(1)\n",
    "\n",
    "        if gapped: #write ter at the end of gap streak\n",
    "            if not ter:\n",
    "                f.write(terline+'\\n')\n",
    "                ter=True\n",
    "    else:\n",
    "        continue\n",
    "\n",
    "\n",
    "        \n",
    "f.close()    \n",
    "pdbfh.close()"
   ]
  },
  {
   "cell_type": "code",
   "execution_count": 220,
   "id": "b35aa052-a8e7-4064-a577-c12c4e65fec5",
   "metadata": {},
   "outputs": [],
   "source": [
    "#print(translated)\n",
    "#print(prev_t_index)"
   ]
  },
  {
   "cell_type": "code",
   "execution_count": 170,
   "id": "31ee4ef0-33da-4995-82a1-022d44ee6280",
   "metadata": {},
   "outputs": [
    {
     "name": "stdout",
     "output_type": "stream",
     "text": [
      "GAP\n"
     ]
    }
   ],
   "source": [
    "print(translated[prev_t_index])"
   ]
  },
  {
   "cell_type": "code",
   "execution_count": 186,
   "id": "1bed22be-252e-4ddd-86b9-129cba28b81c",
   "metadata": {},
   "outputs": [
    {
     "data": {
      "text/plain": [
       "941"
      ]
     },
     "execution_count": 186,
     "metadata": {},
     "output_type": "execute_result"
    }
   ],
   "source": [
    "len(translated)"
   ]
  },
  {
   "cell_type": "code",
   "execution_count": 142,
   "id": "857d2465-a42d-436a-8588-81743e6ea00f",
   "metadata": {},
   "outputs": [
    {
     "name": "stdout",
     "output_type": "stream",
     "text": [
      "268 465\n",
      "1100 904\n"
     ]
    }
   ],
   "source": [
    "#904-1100\n",
    "print(res_tick, (res_tick+(1+i_stop_list[0]-i_start_list[0]))) #(1+i_stop_list[0]-i_start_list[0]) is the amount of columns in the i_range\n",
    "\n",
    "print(i_stop_list[0],i_start_list[0])"
   ]
  },
  {
   "cell_type": "code",
   "execution_count": 146,
   "id": "60a17e1d-83dd-4180-85ba-172dc4b614fd",
   "metadata": {},
   "outputs": [
    {
     "name": "stdout",
     "output_type": "stream",
     "text": [
      "268 467\n",
      "1100 902\n"
     ]
    }
   ],
   "source": [
    "print(res_tick, (res_tick+(1+i_stop_list[0]-i_start_list[0])))\n",
    "print(i_stop_list[0],i_start_list[0])"
   ]
  },
  {
   "cell_type": "raw",
   "id": "7729f771-edfb-4df6-89d4-d319b9936717",
   "metadata": {},
   "source": [
    "for tomorrow:\n",
    "\n",
    "write report on this while its fresh\n",
    "and see if python scripts pritn to logs, namely step 2 standardize \n",
    "verify outputs between standardizing and reconstructed. verify the chains are right across all the renaming and such\n",
    "\n",
    "check why 3f9v standard a with gaps had 4 more atoms than others\n",
    "gaps pdbs didnt end with ter until i manually put it in\n",
    "\n",
    "why did the -mer directories from step3 not get made (only 1-mer got made, 2-mer was a document of some sort)?\n",
    "put a warning if there is a pdb with a strange amount of atoms or residues at end of step4"
   ]
  },
  {
   "cell_type": "code",
   "execution_count": 196,
   "id": "ded0a0a6-6c39-40c7-9b04-6afc7021a6e1",
   "metadata": {},
   "outputs": [
    {
     "name": "stdout",
     "output_type": "stream",
     "text": [
      "5271\n",
      "5271\n",
      "5271\n",
      "5271\n",
      "5271\n",
      "5271\n",
      "5271\n",
      "5271\n",
      "5271\n",
      "5271\n",
      "5271\n",
      "5271\n",
      "5271\n",
      "5271\n",
      "5271\n",
      "5271\n",
      "5271\n",
      "5271\n",
      "5271\n",
      "5271\n",
      "5271\n"
     ]
    }
   ],
   "source": [
    "af = \"../mcm_test/pdb_bank/aligned/alignment_files/align_output.fasta\"\n",
    "align = AlignIO.read(af, \"fasta\") \n",
    "#alignment_length=len\n",
    "for record in align:\n",
    "    print(len(record.seq))\n",
    "    if record.id == pdbid:\n",
    "        print(len(record.seq))"
   ]
  },
  {
   "cell_type": "code",
   "execution_count": 219,
   "id": "37dddfbb-e02a-4168-97e0-5f99815a3977",
   "metadata": {},
   "outputs": [
    {
     "name": "stdout",
     "output_type": "stream",
     "text": [
      "['B', 'C', 'D', 'E']\n"
     ]
    }
   ],
   "source": [
    "#!/usr/bin/env python3\n",
    "import os\n",
    "import sys\n",
    "#sys.argv[1]\n",
    "pdbid = \"../mcm_test/pdb_bank/cut_and_cleaned/withoutgaps/6U0M_ltr_stndrd\" #os.environ[\"id\"]\n",
    "pdbf = pdbid+\".pdb\"\n",
    "pdbfh = open(pdbf, 'r')\n",
    "prev_chain = \"oogabooga\"\n",
    "chainlist=list()\n",
    "for line in pdbfh:\n",
    "    if line.startswith('ATOM'):\n",
    "        if line[21] != prev_chain:\n",
    "            chainlist.append(line[21])\n",
    "            prev_chain=line[21]\n",
    "pdbfh.close()\n",
    "print(chainlist)"
   ]
  },
  {
   "cell_type": "code",
   "execution_count": 223,
   "id": "0c9bc014-5483-4447-9d48-6afc22f27b40",
   "metadata": {},
   "outputs": [
    {
     "name": "stdout",
     "output_type": "stream",
     "text": [
      "  71\n",
      "  71\n",
      "  71\n",
      "  71\n"
     ]
    }
   ],
   "source": [
    "#!/usr/bin/env python3\n",
    "#checking 3f9v\n",
    "import os\n",
    "import sys\n",
    "#sys.argv[1]\n",
    "pdbid = \"../mcm_test/pdb_bank/equal_atoms/1-mer/3F9V_stndrd_A_withgaps\" \n",
    "pdbf = pdbid+\".pdb\"\n",
    "pdbfh = open(pdbf, 'r')\n",
    "prev_res=None\n",
    "count=1\n",
    "for line in pdbfh:\n",
    "    if line.startswith('ATOM'):\n",
    "        if line[22:26] != prev_res:\n",
    "            count=1\n",
    "        if line[22:26] == prev_res:\n",
    "            count=count+1\n",
    "            if count > 4:\n",
    "                print(line[22:26])\n",
    "        prev_res=line[22:26]\n",
    "#res71 in equalatoms\n",
    "#res50 in cutandcleaned"
   ]
  },
  {
   "cell_type": "code",
   "execution_count": 245,
   "id": "ecd2cdf6-9cde-4857-8158-5e27bcd1bb4c",
   "metadata": {},
   "outputs": [
    {
     "name": "stdout",
     "output_type": "stream",
     "text": [
      " 321\n",
      " 321\n",
      " 321\n",
      " 321\n",
      " 321\n"
     ]
    }
   ],
   "source": [
    "#!/usr/bin/env python3\n",
    "#checking 3f9v\n",
    "import os\n",
    "import sys\n",
    "#sys.argv[1]\n",
    "pdbid = \"3F9V_stndrd-cut\" \n",
    "pdbf = pdbid+\".pdb\"\n",
    "pdbfh = open(pdbf, 'r')\n",
    "prev_res=None\n",
    "count=1\n",
    "for line in pdbfh:\n",
    "    if line.startswith('ATOM'):\n",
    "        if line[22:26] != prev_res:\n",
    "            count=1\n",
    "        if line[22:26] == prev_res:\n",
    "            count=count+1\n",
    "            if count > 5:\n",
    "                print(line[22:26])\n",
    "        prev_res=line[22:26]\n",
    "#res71 in equalatoms\n",
    "#res50 in cutandcleaned"
   ]
  },
  {
   "cell_type": "code",
   "execution_count": 226,
   "id": "3fc9225e-af10-4519-8cf1-86cf7c1d6f3c",
   "metadata": {},
   "outputs": [],
   "source": [
    "#!/usr/bin/env python3\n",
    "#checking 3f9v\n",
    "import os\n",
    "import sys\n",
    "#sys.argv[1]\n",
    "pdbid = \"../mcm_test/pdb_bank/crude/3F9V\" \n",
    "pdbf = pdbid+\".pdb\"\n",
    "pdbfh = open(pdbf, 'r')\n",
    "prev_res=None\n",
    "count=1\n",
    "for line in pdbfh:\n",
    "    if line.startswith('ATOM'):\n",
    "        if line[22:26] != prev_res:\n",
    "            count=1\n",
    "        if line[22:26] == prev_res:\n",
    "            count=count+1\n",
    "            if count > 5:\n",
    "                print(line[22:26])\n",
    "        prev_res=line[22:26]\n",
    "#res327 in crude"
   ]
  },
  {
   "cell_type": "raw",
   "id": "3882a63c-793c-4fbe-8775-cb2a8aa3eb3b",
   "metadata": {},
   "source": [
    "btw standard out and cut and cleaned\n",
    "    vi mcm_test/pdb_bank/*/*/3F9V*pdb\n",
    "    /-18.944 147.003"
   ]
  },
  {
   "cell_type": "code",
   "execution_count": 772,
   "id": "f5d07b2a-675e-4fef-ad67-c7b5a0349549",
   "metadata": {},
   "outputs": [],
   "source": [
    "#!/usr/bin/env python3\n",
    "import os\n",
    "import sys\n",
    "import re\n",
    "from Bio import AlignIO\n",
    "\n",
    "#af = sys.argv[1]\n",
    "af = \"../mcm_test/pdb_bank/aligned/alignment_files/align_output.fasta\"\n",
    "align = AlignIO.read(af, \"fasta\")\n",
    "args=[\"905:950\",\"1735:1956\",\"2608:2703\",\"3510:3633\",\"4189:4289\",\"4891:5073\"]\n",
    "\n",
    "#translate numbers\n",
    "i_start_list=list()\n",
    "i_stop_list=list()\n",
    "pdbid=\"3F9V_stndrd\" #os.environ[\"id\"]\n",
    "pdb=pdbid + \".pdb\"\n",
    "sequence=\"\"\n",
    "res_tick=0\n",
    "tick=0\n",
    "psuedo_n=0\n",
    "translated=list()\n",
    "for record in align:\n",
    "    if record.id == pdbid:\n",
    "        #get i set \n",
    "        for i in args:#sys.argv[2:]:\n",
    "            i_split=re.split(':', i)\n",
    "            i_start=int(i_split[0]) \n",
    "            i_stop=int(i_split[1])\n",
    "            i_start_list.append(i_start)\n",
    "            i_stop_list.append(i_stop)\n",
    "\n",
    "        #translate alignment column # to pdb res #\n",
    "        for n in range(1, i_stop_list[-1]+1):\n",
    "            subtractor=0\n",
    "            #count residues \n",
    "            if record.seq[n-1] == '-':\n",
    "                #adder=1\n",
    "                pass\n",
    "            else:\n",
    "                res_tick=res_tick+1\n",
    "            #put important residues in pdb\n",
    "            if n == i_start_list[tick]:  \n",
    "                for x in range(res_tick, (res_tick+(i_stop_list[tick]-(i_start_list[tick]))+1)):\n",
    "                    if psuedo_n < n:\n",
    "                        psuedo_n=n\n",
    "                    if record.seq[psuedo_n-1] == '-':\n",
    "                        if n != psuedo_n:\n",
    "                            subtractor=subtractor+1\n",
    "                        pass\n",
    "                    else:\n",
    "                        if subtractor>=x:\n",
    "                            res=x\n",
    "                            print(\"WARNING: the subtractor is larger than x. this is extremely odd and likely indicative of an issue\")\n",
    "                        else:\n",
    "                            res=x-subtractor\n",
    "                        translated.append(res)\n",
    "                    psuedo_n=psuedo_n+1\n",
    "                tick=tick+1\n",
    "                if tick+1 > len(i_start_list):\n",
    "                    break\n",
    "#write new pdb          \n",
    "if not translated:\n",
    "    print(pdbid,\" does not contain any residues in the specified range. Omitting from rest of process\")\n",
    "    os.remove(pdb)\n",
    "    sys.exit()\n",
    "newpdb=pdbid + \"-cut\" + \".pdb\"\n",
    "f = open(newpdb, \"w\")\n",
    "pdbfh = open(pdb, 'r')\n",
    "prev_writ_t=translated[0]-1\n",
    "prev_t=translated[0]\n",
    "ter=False\n",
    "terline='TER'+' '*77\n",
    "for line in pdbfh:\n",
    "    if line.startswith('ATOM'):\n",
    "        for t in translated:\n",
    "            if int(line[22:26]) == t:\n",
    "                if prev_t != t:\n",
    "                    if t != prev_t+1:\n",
    "                        if not ter:    #prevents double TER\n",
    "                            f.write(terline+'\\n')\n",
    "                            ter=True\n",
    "                prev_t=t\n",
    "                f.write(line)\n",
    "                ter=False\n",
    "            else:\n",
    "                continue\n",
    "    elif line.startswith('TER'):\n",
    "        if not ter:\n",
    "            f.write(terline+'\\n')\n",
    "            ter=True\n",
    "    else:\n",
    "        print(\"potentially strange line:\",line)\n",
    "        f.write('\\n')\n",
    "f.close()    \n",
    "pdbfh.close()\n",
    "#3 324 1100 272\n",
    "#44 365 1955 321"
   ]
  },
  {
   "cell_type": "code",
   "execution_count": 774,
   "id": "13dc5d93-0cd9-4c3f-94c6-a195c5042f69",
   "metadata": {},
   "outputs": [],
   "source": [
    "#!/usr/bin/env python3\n",
    "#checking 3f9v\n",
    "import os\n",
    "import sys\n",
    "#sys.argv[1]\n",
    "pdbid = \"3F9V_stndrd-cut\" \n",
    "pdbf = pdbid+\".pdb\"\n",
    "pdbfh = open(pdbf, 'r')\n",
    "prev_res=None\n",
    "count=1\n",
    "for line in pdbfh:\n",
    "    if line.startswith('ATOM'):\n",
    "        if line[22:26] != prev_res:\n",
    "            count=1\n",
    "        if line[22:26] == prev_res:\n",
    "            count=count+1\n",
    "            if count > 5:\n",
    "                print(line[22:26])\n",
    "        prev_res=line[22:26]\n",
    "#res71 in equalatoms\n",
    "#res50 in cutandcleaned"
   ]
  },
  {
   "cell_type": "code",
   "execution_count": 771,
   "id": "e1bfe942-d2e5-455a-b28d-7d05e0353b8d",
   "metadata": {},
   "outputs": [
    {
     "name": "stdout",
     "output_type": "stream",
     "text": [
      "[1]\n"
     ]
    }
   ],
   "source": [
    "print(translated)"
   ]
  },
  {
   "cell_type": "code",
   "execution_count": 750,
   "id": "760043be-8d59-4580-9803-1c41c1e4bcad",
   "metadata": {},
   "outputs": [],
   "source": [
    "t5=translated\n",
    "#t1=3933\n",
    "#t2=3935\n",
    "#t3=3932\n",
    "#t4=1101\n",
    "#t5=905"
   ]
  },
  {
   "cell_type": "code",
   "execution_count": 751,
   "id": "b041cf0b-fd9e-4808-9e3d-a3a4c2247802",
   "metadata": {},
   "outputs": [
    {
     "data": {
      "text/plain": [
       "True"
      ]
     },
     "execution_count": 751,
     "metadata": {},
     "output_type": "execute_result"
    }
   ],
   "source": [
    "t4==t5"
   ]
  },
  {
   "cell_type": "code",
   "execution_count": 734,
   "id": "1e3e1283-5b55-4973-98e7-75d38ca7c4a9",
   "metadata": {},
   "outputs": [
    {
     "name": "stdout",
     "output_type": "stream",
     "text": [
      "[273, 274, 275, 276, 277, 278, 279, 280, 281, 282, 283, 284, 285, 286, 287, 288, 289, 290, 291, 292, 293, 294, 295, 296, 297, 298, 299, 300, 301, 302, 303, 304, 305, 306, 307, 308, 309, 310, 311, 312, 313, 314, 315, 322, 323, 324, 325, 326, 327, 328, 329, 330, 331, 332, 333, 334, 335, 336, 337, 338, 339, 340, 341, 342, 343, 344, 345, 346, 347, 348, 349, 350, 351, 352, 353, 354, 355, 356, 357, 358, 359, 360, 361, 362, 363, 364, 365, 366, 367, 368, 369, 370, 371, 372, 373, 374, 375, 376, 377, 378, 379, 380, 381, 382, 383, 384, 385, 386, 387, 388, 474, 475, 476, 477, 478, 479, 480, 481, 482, 483, 484, 485, 486, 487, 488, 489, 490, 491, 492, 493, 494, 495, 496, 497, 498, 499, 500, 501, 502, 503, 504, 505, 506, 507, 508, 509, 510, 511, 512, 513, 514, 515, 516, 517, 518, 519, 520, 521, 522, 523, 524, 525, 526, 527, 528, 529, 530, 531, 532, 533, 534, 535, 536, 537, 538, 539, 540, 541, 542, 543, 544, 545, 546, 547, 548, 549, 550, 551, 552, 553, 554, 555, 556, 557, 558, 559]\n",
      "[273, 274, 275, 276, 277, 278, 279, 280, 281, 282, 283, 284, 285, 286, 287, 288, 289, 290, 291, 292, 293, 294, 295, 296, 297, 298, 299, 300, 301, 302, 303, 304, 305, 306, 307, 308, 309, 310, 311, 312, 313, 314, 315, 322, 323, 324, 325, 326, 327, 328, 329, 330, 331, 332, 333, 334, 335, 336, 337, 338, 339, 340, 341, 342, 343, 344, 345, 346, 347, 348, 349, 350, 351, 352, 353, 354, 355, 356, 357, 358, 359, 360, 361, 362, 363, 364, 365, 366, 367, 368, 369, 370, 371, 372, 373, 374, 375, 376, 377, 378, 379, 380, 381, 382, 383, 384, 385, 386, 387, 388, 474, 475, 476, 477, 478, 479, 480, 481, 482, 483, 484, 485, 486, 487, 488, 489, 490, 491, 492, 493, 494, 495, 496, 497, 498, 499, 500, 501, 502, 503, 504, 505, 506, 507, 508, 509, 510, 511, 512, 513, 514, 515, 516, 517, 518, 519, 520, 521, 522, 523, 524, 525, 526, 527, 528, 529, 530, 531, 532, 533, 534, 535, 536, 537, 538, 539, 540, 541, 542, 543, 544, 545, 546, 547, 548, 549, 550, 551, 552, 553, 554, 555, 556, 557, 558]\n"
     ]
    }
   ],
   "source": [
    "print(t2)\n",
    "print(t3)"
   ]
  },
  {
   "cell_type": "code",
   "execution_count": 661,
   "id": "596ba61e-b9b5-4231-b2e9-7dc392686a0c",
   "metadata": {},
   "outputs": [
    {
     "data": {
      "text/plain": [
       "[905, 1735, 2608, 3510, 4189, 4891]"
      ]
     },
     "execution_count": 661,
     "metadata": {},
     "output_type": "execute_result"
    }
   ],
   "source": [
    "i_start_list"
   ]
  },
  {
   "cell_type": "code",
   "execution_count": 662,
   "id": "449347e3-9f17-4722-94d9-5512a00fb67f",
   "metadata": {},
   "outputs": [
    {
     "data": {
      "text/plain": [
       "[950, 1956, 2703, 3633, 4289, 5073]"
      ]
     },
     "execution_count": 662,
     "metadata": {},
     "output_type": "execute_result"
    }
   ],
   "source": [
    "i_stop_list"
   ]
  },
  {
   "cell_type": "code",
   "execution_count": 615,
   "id": "eadd8df7-365b-4a99-859e-3c88ac40546b",
   "metadata": {},
   "outputs": [
    {
     "name": "stdout",
     "output_type": "stream",
     "text": [
      "2 49\n"
     ]
    }
   ],
   "source": [
    "#print()\n",
    "res_tick=1\n",
    "print(res_tick+1, (res_tick+1+(i_stop_list[0]-i_start_list[0]+1)+1))"
   ]
  },
  {
   "cell_type": "code",
   "execution_count": 616,
   "id": "2994d8fe-24e1-4e3d-9e90-5246e1b56c4a",
   "metadata": {},
   "outputs": [
    {
     "data": {
      "text/plain": [
       "45"
      ]
     },
     "execution_count": 616,
     "metadata": {},
     "output_type": "execute_result"
    }
   ],
   "source": [
    "i_stop_list[0]-i_start_list[0]"
   ]
  },
  {
   "cell_type": "code",
   "execution_count": 652,
   "id": "e17c450a-ba01-4f94-a032-64e5b22131b9",
   "metadata": {},
   "outputs": [
    {
     "name": "stdout",
     "output_type": "stream",
     "text": [
      "I\n",
      "D\n"
     ]
    }
   ],
   "source": [
    "pdbid=\"3F9V_stndrd\"\n",
    "for record in align:\n",
    "    if record.id == pdbid:\n",
    "        n=594 #is an I\n",
    "        print(record.seq[n-1])\n",
    "        print(record.seq[n])"
   ]
  },
  {
   "cell_type": "code",
   "execution_count": 638,
   "id": "98aaee8f-90f2-4755-957d-13e29732ec6a",
   "metadata": {},
   "outputs": [
    {
     "name": "stdout",
     "output_type": "stream",
     "text": [
      "3\n",
      "4\n",
      "5\n"
     ]
    }
   ],
   "source": [
    "#xx-----xxx-\n",
    "#want res's 3 to 5\n",
    "#istart=n=8\n",
    "#at istart=8, res_tick=3 bc its counting it\n",
    "#istop=10\n",
    "\n",
    "\n",
    "for x in range(3,3+(10-8)+1):\n",
    "    print(x)\n",
    "#gives 3,4,5"
   ]
  },
  {
   "cell_type": "code",
   "execution_count": 663,
   "id": "f57a791e-a881-4e03-9760-53a8234d30cd",
   "metadata": {},
   "outputs": [
    {
     "name": "stdout",
     "output_type": "stream",
     "text": [
      "3\n",
      "4\n",
      "5\n"
     ]
    }
   ],
   "source": [
    "#-xx-----xxx-\n",
    "#want res's 3 to 5\n",
    "#istart=n=9\n",
    "#at istart=9, res_tick=3 bc its counting it\n",
    "#istop=11\n",
    "\n",
    "\n",
    "for x in range(3,3+(11-9)+1):\n",
    "    print(x)\n",
    "#gives 3,4,5\n"
   ]
  },
  {
   "cell_type": "code",
   "execution_count": 647,
   "id": "0ecbdbbe-44e8-4a99-ae3f-6d081dcb3cb5",
   "metadata": {},
   "outputs": [
    {
     "name": "stdout",
     "output_type": "stream",
     "text": [
      "1\n",
      "3\n",
      "4\n",
      "5\n"
     ]
    }
   ],
   "source": [
    "#-xx-----xxx-\n",
    "#want res's 3 to 5\n",
    "#istart=n=8 which includes first gap\n",
    "#at istart=8, res_tick=2 bc its not counting it\n",
    "#istop=11\n",
    "\n",
    "s=1\n",
    "for x in range(2,2+(11-8)+1):\n",
    "    if x==2:\n",
    "        x=x-s\n",
    "    print(x)\n"
   ]
  },
  {
   "cell_type": "code",
   "execution_count": 648,
   "id": "682eaaa4-1da4-43de-bacc-c103f6bf5ce6",
   "metadata": {},
   "outputs": [
    {
     "name": "stdout",
     "output_type": "stream",
     "text": [
      "0\n",
      "3\n",
      "4\n",
      "5\n",
      "6\n"
     ]
    }
   ],
   "source": [
    "#-xx-----xxx-\n",
    "#want res's 3 to 5\n",
    "#istart=n=7 which includes first 2 gap\n",
    "#at istart=7, res_tick=2 bc its not counting it\n",
    "#istop=11\n",
    "\n",
    "s=1\n",
    "for x in range(2,2+(11-7)+1):\n",
    "    if x==2:\n",
    "        x=s-1\n",
    "    print(x)\n"
   ]
  },
  {
   "cell_type": "code",
   "execution_count": 664,
   "id": "262aee5f-a4fe-4905-9059-de048f51da82",
   "metadata": {},
   "outputs": [
    {
     "name": "stdout",
     "output_type": "stream",
     "text": [
      "2\n",
      "3\n",
      "4\n",
      "5\n",
      "6\n"
     ]
    }
   ],
   "source": [
    "#-xx-----xxx-\n",
    "#want res's 3 to 5\n",
    "#istart=n=7 which includes first 2 gap\n",
    "#at istart=7, res_tick=2 bc its not counting it\n",
    "#istop=11\n",
    "\n",
    "s=1\n",
    "for x in range(2,2+(11-7)+1):\n",
    "    print(x)\n",
    "#gives 3,4,5\n"
   ]
  },
  {
   "cell_type": "code",
   "execution_count": 578,
   "id": "df528e17-dae3-4521-8f94-88c8c0d39fec",
   "metadata": {},
   "outputs": [
    {
     "name": "stdout",
     "output_type": "stream",
     "text": [
      "1\n",
      "2\n",
      "3\n"
     ]
    }
   ],
   "source": [
    "for x in range(1,3+1):\n",
    "    print(x)"
   ]
  },
  {
   "cell_type": "code",
   "execution_count": null,
   "id": "abbbd267-c91c-4bb2-895a-904115a256e3",
   "metadata": {},
   "outputs": [],
   "source": []
  }
 ],
 "metadata": {
  "kernelspec": {
   "display_name": "Python 3",
   "language": "python",
   "name": "python3"
  },
  "language_info": {
   "codemirror_mode": {
    "name": "ipython",
    "version": 3
   },
   "file_extension": ".py",
   "mimetype": "text/x-python",
   "name": "python",
   "nbconvert_exporter": "python",
   "pygments_lexer": "ipython3",
   "version": "3.8.1"
  }
 },
 "nbformat": 4,
 "nbformat_minor": 5
}
