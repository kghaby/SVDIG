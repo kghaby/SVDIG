{
 "cells": [
  {
   "cell_type": "code",
   "execution_count": 20,
   "id": "close-moral",
   "metadata": {},
   "outputs": [
    {
     "name": "stdout",
     "output_type": "stream",
     "text": [
      "{'5'}\n"
     ]
    },
    {
     "data": {
      "text/plain": [
       "{'A': {'5'}, 'B': set(), 'C': set()}"
      ]
     },
     "execution_count": 20,
     "metadata": {},
     "output_type": "execute_result"
    }
   ],
   "source": [
    "l=list()\n",
    "l.append(\"A\")\n",
    "l.append(\"B\")\n",
    "l.append(\"C\")\n",
    "ref_chn_d = {}\n",
    "for chn_id in l:\n",
    "    ref_chn_d[\"{0}\".format(chn_id)]=set()\n",
    "ref_chn_d[\"A\"].add(\"5\")\n",
    "print(ref_chn_d.get('A'))\n",
    "ref_chn_d"
   ]
  },
  {
   "cell_type": "code",
   "execution_count": 53,
   "id": "minimal-tiger",
   "metadata": {},
   "outputs": [],
   "source": [
    "import Bio.PDB\n",
    "# Start the parser\n",
    "pdb_parser = Bio.PDB.PDBParser(QUIET = True)\n",
    "\n",
    "# Get the structures\n",
    "ref_structure = pdb_parser.get_structure(\"reference\", \"1QYS_Top7Xtal-1.pdb\")\n",
    "sample_structure = pdb_parser.get_structure(\"sample\", \"UstateTop7.pdb\")\n",
    "\n",
    "chain_to_be_aligned=\"A\"\n",
    "\n",
    "# Make a list of the CA atoms in the chain\n",
    "ref_atoms = []\n",
    "sample_atoms = []\n",
    "for ref_chain in ref_model:\n",
    "    if ref_chain.get_id().strip() == chain_to_be_aligned:\n",
    "        for ref_res in ref_chain:\n",
    "            try:\n",
    "                ref_atoms.append(ref_res['CA'])\n",
    "            except:\n",
    "                continue\n",
    "            #\n",
    "#print (ca_atoms)\n"
   ]
  },
  {
   "cell_type": "code",
   "execution_count": 1,
   "id": "subtle-reporter",
   "metadata": {},
   "outputs": [],
   "source": [
    "#from Bio import PDB\n",
    "from Bio.PDB.PDBParser import PDBConstructionWarning\n",
    "import warnings\n",
    "with warnings.catch_warnings():\n",
    "    warnings.simplefilter('ignore', PDBConstructionWarning)\n",
    "    from Bio import PDB\n",
    "    from Bio import SeqIO\n",
    "#SeqIO.PdbIO.AtomIterator(\"test\", \"1QYS_Top7Xtal-1.pdb\")"
   ]
  },
  {
   "cell_type": "code",
   "execution_count": 3,
   "id": "regulated-shore",
   "metadata": {},
   "outputs": [],
   "source": [
    "import os\n",
    "os.chdir(\"/Users/kyleghaby/Desktop/rice/svd/common/get_structures/mcm_test/pdb_bank/cut_and_cleaned\")"
   ]
  },
  {
   "cell_type": "code",
   "execution_count": 94,
   "id": "perceived-snake",
   "metadata": {},
   "outputs": [
    {
     "name": "stdout",
     "output_type": "stream",
     "text": [
      "chain A\n",
      "CLIDEFDKMNDQDRTSIHEAMEQQSISISKAGIVTTLQARCSIIAAANPNGGRYNSTLPLAQNVSLTEPILSRFDILCVVRDLVDEEADERLATFVVDSHVRSSPIPQELLMKYIHYARTKIYPKLHQMDMDKVSRVYADLRRESISTGSFPITVRHLESILRIAESFAKMRLSEFVSSYDLDRAIKVVVDSFVDAQKVSVRRQLRRSFAI\n",
      "chain B\n",
      "TAQHLNKXVSVEGIVTKTSLVRPKLIRSVHYAAKTGRFHYRDYTDATTTLTTRIPTPAIYPTEDTEGNKLTTEYGYSTFIDHQRITVQEMPEMAPAGQLPRSIDVILDDDLVDKTKPGDRVNVVGVFKSLGAGGMNQSNLIGFKTXRVTIPFLRKYVQYAKERVIPQLTQEAINVIVKNYTDLRNDDNTKKSPITARTLETLIRLATAHAKVRLSKTVNKVDAKVAANLLRFALL\n",
      "chain C\n",
      "LRIIWGTNVSIQECTTNFRNFLMSFKYKFRKILDERDEELYYIKQLNEMRELGTSNLNLDARNLLAYKQTEDLYHQLLNYPQEVISIMDQTIKDCMVSLIVDNNLDYDLDEIETKFYKVRPYNVGSCKGMRELNPNDIDKLINLKGLVLRSTPVIPDMKVAFFKCNVCDHTMAVEIDRGVIQEPARCERIDCNEPNSMSLIHNRCSFADKQVIKLQETPDFVPDGQTPHSISLCVYDELVDSCRAGDRIEVTGTFRSIPIRANSRQRVLKSLYKTYVDVVHVKVSDKRLDVDTSTIEQELMQNKVDHNEVEEVRQITDQDLAKIREVAAREDLYSLLARSIAPSIYELEDVKKGILLQLFGGTNKTFTKGGRYRGDINILLCGDPSTSKSQILQYVHKITPRGVYTSGKGSSAVGLTAYITRDVDTKQLVLESGALVLSDGGVCCIDEFDKMSDSTRSVLHEVMEQQTISIAKAGIITTLNARSSILASANPIGSRYNPNLPVTENIDLPPPLLSRFDLVYLVLDKVDEKNDRELAKHLTNLYLEDKPEHISQDDVLPVEFLTMYISYAKEHIHPIITEAAKTELVRAYVGMRKATTRQLESMIRLAEAHAKMKLKNVVELEDVQEAVRLIRSAIKDYAT\n",
      "chain D\n",
      "SFDRPEIYSAPVLQGESPNDDDNTEIIKSFKNFILEFRLDSQFIYR\n"
     ]
    }
   ],
   "source": [
    "import warnings\n",
    "from Bio.PDB.PDBParser import PDBConstructionWarning\n",
    "from Bio.SeqIO.PdbIO import BiopythonParserWarning\n",
    "warnings.simplefilter('ignore', PDBConstructionWarning)\n",
    "warnings.simplefilter('ignore', BiopythonParserWarning)\n",
    "records=SeqIO.parse(\"3JA8.pdb\", \"pdb-atom\")\n",
    "for record in records:\n",
    "    print(\"chain %s\" % (record.annotations[\"chain\"]))\n",
    "    print(record.seq)"
   ]
  },
  {
   "cell_type": "code",
   "execution_count": 101,
   "id": "earlier-appearance",
   "metadata": {},
   "outputs": [
    {
     "name": "stderr",
     "output_type": "stream",
     "text": [
      "/Library/Frameworks/Python.framework/Versions/3.8/lib/python3.8/site-packages/Bio/PDB/PDBParser.py:395: PDBConstructionWarning: Ignoring unrecognized record ' 1684A' at line 1685\n",
      "  warnings.warn(\n",
      "/Library/Frameworks/Python.framework/Versions/3.8/lib/python3.8/site-packages/Bio/PDB/PDBParser.py:395: PDBConstructionWarning: Ignoring unrecognized record ' 1741A' at line 1741\n",
      "  warnings.warn(\n",
      "/Library/Frameworks/Python.framework/Versions/3.8/lib/python3.8/site-packages/Bio/PDB/PDBParser.py:395: PDBConstructionWarning: Ignoring unrecognized record ' 2805A' at line 2804\n",
      "  warnings.warn(\n",
      "/Library/Frameworks/Python.framework/Versions/3.8/lib/python3.8/site-packages/Bio/PDB/PDBParser.py:395: PDBConstructionWarning: Ignoring unrecognized record ' 3522A' at line 3520\n",
      "  warnings.warn(\n",
      "/Library/Frameworks/Python.framework/Versions/3.8/lib/python3.8/site-packages/Bio/PDB/PDBParser.py:395: PDBConstructionWarning: Ignoring unrecognized record ' 8604A' at line 8601\n",
      "  warnings.warn(\n",
      "/Library/Frameworks/Python.framework/Versions/3.8/lib/python3.8/site-packages/Bio/PDB/PDBParser.py:395: PDBConstructionWarning: Ignoring unrecognized record ' 8991 ' at line 8987\n",
      "  warnings.warn(\n",
      "/Library/Frameworks/Python.framework/Versions/3.8/lib/python3.8/site-packages/Bio/SeqIO/PdbIO.py:303: BiopythonParserWarning: 'HEADER' line not found; can't determine PDB ID.\n",
      "  warnings.warn(\n"
     ]
    },
    {
     "name": "stdout",
     "output_type": "stream",
     "text": [
      "LRIIWGTNVSIQECTTNFRNFLMSFKYKFRKILDERDEELYYIKQLNEMRELGTSNLNLDARNLLAYKQTEDLYHQLLNYPQEVISIMDQTIKDCMVSLIVDNNLDYDLDEIETKFYKVRPYNVGSCKGMRELNPNDIDKLINLKGLVLRSTPVIPDMKVAFFKCNVCDHTMAVEIDRGVIQEPARCERIDCNEPNSMSLIHNRCSFADKQVIKLQETPDFVPDGQTPHSISLCVYDELVDSCRAGDRIEVTGTFRSIPIRANSRQRVLKSLYKTYVDVVHVKVSDKRLDVDTSTIEQELMQNKVDHNEVEEVRQITDQDLAKIREVAAREDLYSLLARSIAPSIYELEDVKKGILLQLFGGTNKTFTKGGRYRGDINILLCGDPSTSKSQILQYVHKITPRGVYTSGKGSSAVGLTAYITRDVDTKQLVLESGALVLSDGGVCCIDEFDKMSDSTRSVLHEVMEQQTISIAKAGIITTLNARSSILASANPIGSRYNPNLPVTENIDLPPPLLSRFDLVYLVLDKVDEKNDRELAKHLTNLYLEDKPEHISQDDVLPVEFLTMYISYAKEHIHPIITEAAKTELVRAYVGMRKATTRQLESMIRLAEAHAKMKLKNVVELEDVQEAVRLIRSAIKDYAT\n"
     ]
    }
   ],
   "source": [
    "chn_id=\"C\"\n",
    "for record in SeqIO.parse(\"3JA8.pdb\", \"pdb-atom\"):\n",
    "    if record.annotations[\"chain\"] == chn_id:\n",
    "        ref_seq = record.seq\n",
    "print(ref_seq)"
   ]
  },
  {
   "cell_type": "code",
   "execution_count": null,
   "id": "intelligent-adams",
   "metadata": {},
   "outputs": [],
   "source": [
    "refseq\n",
    "ref_f = open(\"3JA8.pdb\", 'r')\n",
    "for line in ref_f:\n",
    "    if line.startswith('ATOM'):\n",
    "        for chn_id in ref_chn_l:\n",
    "            if line[21].strip() == chn_id:\n",
    "                ref_chn_d[chn_id].add(line[22:26])\n",
    "                if line[12:16].strip()== 'CA':\n",
    "                    atoms_chm_d[chn_id].add()\n",
    "ref_f.close()"
   ]
  },
  {
   "cell_type": "code",
   "execution_count": 102,
   "id": "temporal-economics",
   "metadata": {},
   "outputs": [
    {
     "name": "stderr",
     "output_type": "stream",
     "text": [
      "/Library/Frameworks/Python.framework/Versions/3.8/lib/python3.8/site-packages/Bio/PDB/PDBParser.py:395: PDBConstructionWarning: Ignoring unrecognized record ' 1684A' at line 1685\n",
      "  warnings.warn(\n",
      "/Library/Frameworks/Python.framework/Versions/3.8/lib/python3.8/site-packages/Bio/PDB/PDBParser.py:395: PDBConstructionWarning: Ignoring unrecognized record ' 1741A' at line 1741\n",
      "  warnings.warn(\n",
      "/Library/Frameworks/Python.framework/Versions/3.8/lib/python3.8/site-packages/Bio/PDB/PDBParser.py:395: PDBConstructionWarning: Ignoring unrecognized record ' 2805A' at line 2804\n",
      "  warnings.warn(\n",
      "/Library/Frameworks/Python.framework/Versions/3.8/lib/python3.8/site-packages/Bio/PDB/PDBParser.py:395: PDBConstructionWarning: Ignoring unrecognized record ' 3522A' at line 3520\n",
      "  warnings.warn(\n",
      "/Library/Frameworks/Python.framework/Versions/3.8/lib/python3.8/site-packages/Bio/PDB/PDBParser.py:395: PDBConstructionWarning: Ignoring unrecognized record ' 8604A' at line 8601\n",
      "  warnings.warn(\n",
      "/Library/Frameworks/Python.framework/Versions/3.8/lib/python3.8/site-packages/Bio/PDB/PDBParser.py:395: PDBConstructionWarning: Ignoring unrecognized record ' 8991 ' at line 8987\n",
      "  warnings.warn(\n",
      "/Library/Frameworks/Python.framework/Versions/3.8/lib/python3.8/site-packages/Bio/SeqIO/PdbIO.py:303: BiopythonParserWarning: 'HEADER' line not found; can't determine PDB ID.\n",
      "  warnings.warn(\n"
     ]
    },
    {
     "name": "stdout",
     "output_type": "stream",
     "text": [
      "LRIIWGTNVSIQECTTNFRNFLMSFKYKFRKILDERDEELYYIKQLNEMRELGTSNLNLDARNLLAYKQTEDLYHQLLNYPQEVISIMDQTIKDCMVSLIVDNNLDYDLDEIETKFYKVRPYNVGSCKGMRELNPNDIDKLINLKGLVLRSTPVIPDMKVAFFKCNVCDHTMAVEIDRGVIQEPARCERIDCNEPNSMSLIHNRCSFADKQVIKLQETPDFVPDGQTPHSISLCVYDELVDSCRAGDRIEVTGTFRSIPIRANSRQRVLKSLYKTYVDVVHVKVSDKRLDVDTSTIEQELMQNKVDHNEVEEVRQITDQDLAKIREVAAREDLYSLLARSIAPSIYELEDVKKGILLQLFGGTNKTFTKGGRYRGDINILLCGDPSTSKSQILQYVHKITPRGVYTSGKGSSAVGLTAYITRDVDTKQLVLESGALVLSDGGVCCIDEFDKMSDSTRSVLHEVMEQQTISIAKAGIITTLNARSSILASANPIGSRYNPNLPVTENIDLPPPLLSRFDLVYLVLDKVDEKNDRELAKHLTNLYLEDKPEHISQDDVLPVEFLTMYISYAKEHIHPIITEAAKTELVRAYVGMRKATTRQLESMIRLAEAHAKMKLKNVVELEDVQEAVRLIRSAIKDYAT\n"
     ]
    }
   ],
   "source": [
    "chn_id=\"C\"\n",
    "for record in SeqIO.parse(\"3JA8.pdb\", \"pdb-atom\"):\n",
    "    if record.annotations[\"chain\"] == chn_id:\n",
    "        ref_seq = record.seq\n",
    "print(ref_seq)"
   ]
  },
  {
   "cell_type": "code",
   "execution_count": 7,
   "id": "classified-relation",
   "metadata": {},
   "outputs": [
    {
     "name": "stderr",
     "output_type": "stream",
     "text": [
      "/Library/Frameworks/Python.framework/Versions/3.8/lib/python3.8/site-packages/Bio/PDB/PDBParser.py:395: PDBConstructionWarning: Ignoring unrecognized record ' 1684A' at line 1685\n",
      "  warnings.warn(\n",
      "/Library/Frameworks/Python.framework/Versions/3.8/lib/python3.8/site-packages/Bio/PDB/PDBParser.py:395: PDBConstructionWarning: Ignoring unrecognized record ' 1741A' at line 1741\n",
      "  warnings.warn(\n",
      "/Library/Frameworks/Python.framework/Versions/3.8/lib/python3.8/site-packages/Bio/PDB/PDBParser.py:395: PDBConstructionWarning: Ignoring unrecognized record ' 2805A' at line 2804\n",
      "  warnings.warn(\n",
      "/Library/Frameworks/Python.framework/Versions/3.8/lib/python3.8/site-packages/Bio/PDB/PDBParser.py:395: PDBConstructionWarning: Ignoring unrecognized record ' 3522A' at line 3520\n",
      "  warnings.warn(\n",
      "/Library/Frameworks/Python.framework/Versions/3.8/lib/python3.8/site-packages/Bio/PDB/PDBParser.py:395: PDBConstructionWarning: Ignoring unrecognized record ' 8604A' at line 8601\n",
      "  warnings.warn(\n",
      "/Library/Frameworks/Python.framework/Versions/3.8/lib/python3.8/site-packages/Bio/PDB/PDBParser.py:395: PDBConstructionWarning: Ignoring unrecognized record ' 8991 ' at line 8987\n",
      "  warnings.warn(\n",
      "/Library/Frameworks/Python.framework/Versions/3.8/lib/python3.8/site-packages/Bio/SeqIO/PdbIO.py:303: BiopythonParserWarning: 'HEADER' line not found; can't determine PDB ID.\n",
      "  warnings.warn(\n",
      "/Library/Frameworks/Python.framework/Versions/3.8/lib/python3.8/site-packages/Bio/PDB/PDBParser.py:395: PDBConstructionWarning: Ignoring unrecognized record '  621A' at line 622\n",
      "  warnings.warn(\n",
      "/Library/Frameworks/Python.framework/Versions/3.8/lib/python3.8/site-packages/Bio/PDB/PDBParser.py:395: PDBConstructionWarning: Ignoring unrecognized record '  870A' at line 870\n",
      "  warnings.warn(\n",
      "/Library/Frameworks/Python.framework/Versions/3.8/lib/python3.8/site-packages/Bio/PDB/PDBParser.py:395: PDBConstructionWarning: Ignoring unrecognized record ' 1858A' at line 1857\n",
      "  warnings.warn(\n",
      "/Library/Frameworks/Python.framework/Versions/3.8/lib/python3.8/site-packages/Bio/PDB/PDBParser.py:395: PDBConstructionWarning: Ignoring unrecognized record ' 2007A' at line 2005\n",
      "  warnings.warn(\n",
      "/Library/Frameworks/Python.framework/Versions/3.8/lib/python3.8/site-packages/Bio/PDB/PDBParser.py:395: PDBConstructionWarning: Ignoring unrecognized record ' 2869A' at line 2866\n",
      "  warnings.warn(\n",
      "/Library/Frameworks/Python.framework/Versions/3.8/lib/python3.8/site-packages/Bio/PDB/PDBParser.py:395: PDBConstructionWarning: Ignoring unrecognized record ' 4690A' at line 4686\n",
      "  warnings.warn(\n",
      "/Library/Frameworks/Python.framework/Versions/3.8/lib/python3.8/site-packages/Bio/PDB/PDBParser.py:395: PDBConstructionWarning: Ignoring unrecognized record ' 5949 ' at line 5944\n",
      "  warnings.warn(\n",
      "/Library/Frameworks/Python.framework/Versions/3.8/lib/python3.8/site-packages/Bio/SeqIO/PdbIO.py:303: BiopythonParserWarning: 'HEADER' line not found; can't determine PDB ID.\n",
      "  warnings.warn(\n"
     ]
    }
   ],
   "source": [
    "pdb=\"6U0M_ltr\"\n",
    "pdbf=pdb+\".pdb\"\n",
    "ref_id=\"3JA8\"\n",
    "ref_pdb=ref_id+\".pdb\"\n",
    "ref_records=SeqIO.parse(ref_pdb, \"pdb-atom\")\n",
    "sample_records=SeqIO.parse(pdbf, \"pdb-atom\")\n",
    "\n",
    "chn_id=\"A\"\n",
    "for record in ref_records:\n",
    "    if record.annotations[\"chain\"] == chn_id:\n",
    "        ref_seq = record.seq\n",
    "for record in sample_records:\n",
    "    if record.annotations[\"chain\"] == chn_id:\n",
    "        sample_seq = record.seq\n",
    "#alignments = pairwise2.align.globalxx(ref_seq, sample_seq)"
   ]
  },
  {
   "cell_type": "code",
   "execution_count": 10,
   "id": "crucial-afternoon",
   "metadata": {},
   "outputs": [],
   "source": [
    "from Bio import pairwise2\n",
    "alignments = pairwise2.align.globalxx(ref_seq, sample_seq)"
   ]
  },
  {
   "cell_type": "code",
   "execution_count": 19,
   "id": "animal-confidence",
   "metadata": {},
   "outputs": [
    {
     "name": "stdout",
     "output_type": "stream",
     "text": [
      "CLIDEFDKMNDQ--DRTSIH-------EAMEQQSISISKAGIVT-TL-Q--ARCSIIAAANPNGGRYNSTLPLAQN-VS-LTEPILSRF----DILCVV-RD--LVDEEAD-ERLATFVVDSHVRSSPIPQEL-LMKYIHYARTKI---YPKLH--Q----M-DMDKVSRVYADLRRESISTGS----FPI-T-VRHLESILRIAESFAKMRLSEFVSSYD-LDRAIKVVVDS-F-VDA-QKVS-VR-R--Q---LRRSFA--I\n",
      "        |     |            ||         |      |  |  || |            |      |  |  |  |         ||     |   |       |          |  |       |       | |    |  |   |    | | ||   | |               |   | |                    |      |   ||   || | |   |  | |  |  |   |       |\n",
      "--------M---YGD-----LGNKLVLEA---------K-----RT-KQLYAR-S------------N------Q-DV-NL--P-----MYHEDI----IR-NIL------KE----------V--S------NL-------R-K-NTEY--L-KEQQQLGMLD-DK---V-A-----------KCQYF--VTXV--------------------F-----NL---IK---DSQFFV--RQ--SDV-ERLIQQGYL-----QKI\n",
      "  Score=52\n",
      "\n"
     ]
    }
   ],
   "source": [
    "pairwise2.format_alignment(*alignments[0])"
   ]
  },
  {
   "cell_type": "code",
   "execution_count": 32,
   "id": "unlike-ordinary",
   "metadata": {},
   "outputs": [
    {
     "name": "stderr",
     "output_type": "stream",
     "text": [
      "/Library/Frameworks/Python.framework/Versions/3.8/lib/python3.8/site-packages/Bio/PDB/StructureBuilder.py:89: PDBConstructionWarning: WARNING: Chain 2 is discontinuous at line 32604.\n",
      "  warnings.warn(\n",
      "/Library/Frameworks/Python.framework/Versions/3.8/lib/python3.8/site-packages/Bio/PDB/StructureBuilder.py:89: PDBConstructionWarning: WARNING: Chain 3 is discontinuous at line 32631.\n",
      "  warnings.warn(\n",
      "/Library/Frameworks/Python.framework/Versions/3.8/lib/python3.8/site-packages/Bio/PDB/StructureBuilder.py:89: PDBConstructionWarning: WARNING: Chain 4 is discontinuous at line 32658.\n",
      "  warnings.warn(\n",
      "/Library/Frameworks/Python.framework/Versions/3.8/lib/python3.8/site-packages/Bio/PDB/StructureBuilder.py:89: PDBConstructionWarning: WARNING: Chain 5 is discontinuous at line 32685.\n",
      "  warnings.warn(\n",
      "/Library/Frameworks/Python.framework/Versions/3.8/lib/python3.8/site-packages/Bio/PDB/StructureBuilder.py:89: PDBConstructionWarning: WARNING: Chain 6 is discontinuous at line 32712.\n",
      "  warnings.warn(\n",
      "/Library/Frameworks/Python.framework/Versions/3.8/lib/python3.8/site-packages/Bio/PDB/StructureBuilder.py:89: PDBConstructionWarning: WARNING: Chain 7 is discontinuous at line 32739.\n",
      "  warnings.warn(\n",
      "/Library/Frameworks/Python.framework/Versions/3.8/lib/python3.8/site-packages/Bio/PDB/StructureBuilder.py:89: PDBConstructionWarning: WARNING: Chain 2 is discontinuous at line 43001.\n",
      "  warnings.warn(\n",
      "/Library/Frameworks/Python.framework/Versions/3.8/lib/python3.8/site-packages/Bio/PDB/StructureBuilder.py:89: PDBConstructionWarning: WARNING: Chain 3 is discontinuous at line 43032.\n",
      "  warnings.warn(\n",
      "/Library/Frameworks/Python.framework/Versions/3.8/lib/python3.8/site-packages/Bio/PDB/StructureBuilder.py:89: PDBConstructionWarning: WARNING: Chain 5 is discontinuous at line 43063.\n",
      "  warnings.warn(\n"
     ]
    },
    {
     "name": "stdout",
     "output_type": "stream",
     "text": [
      "CLIDEFDKMNDQ--DRTSIH-------EAMEQQSISISKAGIVT-TL-Q--ARCS------------IIAAA-NP------NGG-RY-NST--LP-----L-------A--QN--VSLT----EPI-----LS----RFDILCVVR-D-LVDEE--A------DERLA----TFVV---D----SHVRSSPIPQEL---LMK-Y---IHYARTKIYPKLHQMDMD-KVSRVYA-DLRRES--I--STGSF--P-----IT-VRHLESI-LRI--A-ESFAKMRLS---EFVSSYD----LDRAIKVVVDS-F-VDA-QKVS-VR-R--Q---LRRSFA--I\n",
      "        |     |            ||         |      |  |  || |            ||    |       |   |  | |  |      |       |  |   |  |    |       |     |   |   | | | |    |      |  |     ||     |    ||       ||    | | |   |    |           | | |     ||      |  | ||   |     |  ||      |    | |           |    |     |   ||   || | |   |  | |  |  |   |       |\n",
      "--------M---YGD-----LGNKLVLEA---------K-----RT-KQLYAR-SNQDVNLPMYHEDII---RN-ILKEVSN--LR-KN-TEYL-KEQQQLGMLDDKVAKCQ-YFV--TLLCME--RNKRCL-LAYQR---L---RTDIL-D--SMAWNNNGLD--L-MSSITF--SQQDTNNLSH-------QE-QEYL-KEYCDLI----T-----------DLK-S----GDL----VDIDLS-GS-LVPPSDVFI-DVR-----VL--KDAGE--------IQTE----Y-GVFNL---IK---DSQFFV--RQ--SDV-ERLIQQGYL-----QKI\n",
      "  Score=78\n",
      "\n"
     ]
    }
   ],
   "source": [
    "pdb=\"../crude/6U0M\"\n",
    "pdbf=pdb+\".pdb\"\n",
    "ref_id=\"../crude/3JA8\"\n",
    "ref_pdb=ref_id+\".pdb\"\n",
    "ref_records=SeqIO.parse(ref_pdb, \"pdb-atom\")\n",
    "sample_records=SeqIO.parse(pdbf, \"pdb-atom\")\n",
    "\n",
    "chn_id=\"A\"\n",
    "for record in ref_records:\n",
    "    if record.annotations[\"chain\"] == chn_id:\n",
    "        ref_seq = record.seq\n",
    "for record in sample_records:\n",
    "    if record.annotations[\"chain\"] == chn_id:\n",
    "        sample_seq = record.seq\n",
    "alignments = pairwise2.align.globalxx(ref_seq, sample_seq)\n",
    "\n",
    "print(pairwise2.format_alignment(*alignments[0]))"
   ]
  },
  {
   "cell_type": "code",
   "execution_count": 33,
   "id": "controlled-fashion",
   "metadata": {},
   "outputs": [
    {
     "name": "stdout",
     "output_type": "stream",
     "text": [
      "CLIDEFDKMNDQ-DRTSIH-------EAMEQQSISISKAGIVT-TL-Q--ARCS------------IIAAA-NP------NGG-RY-NST--LP-----L-------A--QN--VSLT----EPI-----LS----RFDILCVVR-D-LVDEE--A------DERLA----TFVV---D----SHVRSSPIPQEL---LMK-Y---IHYARTKIYPKLHQMDMD-KVSRVYA-DLRRES--I--STGSF--P-----IT-VRHLESI-LRI--A-ESFAKMRLS---EFVSSYD----LDRAIKVVVDS-F-VDA-QKVS-VR-R--Q---LRRSFA--I\n",
      "        |  . |            ||         |      |  |  || |            ||    |       |   |  | |  |      |       |  |   |  |    |       |     |   |   | | | |    |      |  |     ||     |    ||       ||    | | |   |    |           | | |     ||      |  | ||   |     |  ||      |    | |           |    |     |   ||   || | |   |  | |  |  |   |       |\n",
      "--------M--YGD-----LGNKLVLEA---------K-----RT-KQLYAR-SNQDVNLPMYHEDII---RN-ILKEVSN--LR-KN-TEYL-KEQQQLGMLDDKVAKCQ-YFV--TLLCME--RNKRCL-LAYQR---L---RTDIL-D--SMAWNNNGLD--L-MSSITF--SQQDTNNLSH-------QE-QEYL-KEYCDLI----T-----------DLK-S----GDL----VDIDLS-GS-LVPPSDVFI-DVR-----VL--KDAGE--------IQTE----Y-GVFNL---IK---DSQFFV--RQ--SDV-ERLIQQGYL-----QKI\n",
      "  Score=78\n",
      "\n"
     ]
    }
   ],
   "source": [
    "print(pairwise2.format_alignment(*alignments[1]))"
   ]
  },
  {
   "cell_type": "code",
   "execution_count": 46,
   "id": "olympic-client",
   "metadata": {},
   "outputs": [
    {
     "name": "stdout",
     "output_type": "stream",
     "text": [
      "CLIDEFDKMNDQ--DRTSIH-------EAMEQQSISISKAGIVT-TL-Q--ARCS------------IIAAA-NP------NGG-RY-NST--LP-----L-------A--QN--VSLT----EPI-----LS----RFDILCVVR-D-LVDEE--A------DERLA----TFVV---D----SHVRSSPIPQEL---LMK-Y---IHYARTKIYPKLHQMDMD-KVSRVYA-DLRRES--I--STGSF--P-----IT-VRHLESI-LRI--A-ESFAKMRLS---EFVSSYD----LDRAIKVVVDS-F-VDA-QKVS-VR-R--Q---LRRSFA--I\n",
      "        |     |            ||         |      |  |  || |            ||    |       |   |  | |  |      |       |  |   |  |    |       |     |   |   | | | |    |      |  |     ||     |    ||       ||    | | |   |    |           | | |     ||      |  | ||   |     |  ||      |    | |           |    |     |   ||   || | |   |  | |  |  |   |       |\n",
      "--------M---YGD-----LGNKLVLEA---------K-----RT-KQLYAR-SNQDVNLPMYHEDII---RN-ILKEVSN--LR-KN-TEYL-KEQQQLGMLDDKVAKCQ-YFV--TLLCME--RNKRCL-LAYQR---L---RTDIL-D--SMAWNNNGLD--L-MSSITF--SQQDTNNLSH-------QE-QEYL-KEYCDLI----T-----------DLK-S----GDL----VDIDLS-GS-LVPPSDVFI-DVR-----VL--KDAGE--------IQTE----Y-GVFNL---IK---DSQFFV--RQ--SDV-ERLIQQGYL-----QKI\n",
      "  Score=78\n",
      "\n"
     ]
    }
   ],
   "source": [
    "alignments = pairwise2.align.localxx(ref_seq, sample_seq)\n",
    "p=(pairwise2.format_alignment(*alignments[0],full_sequences=True))\n",
    "print(p)"
   ]
  },
  {
   "cell_type": "code",
   "execution_count": 68,
   "id": "timely-furniture",
   "metadata": {},
   "outputs": [
    {
     "name": "stdout",
     "output_type": "stream",
     "text": [
      "78.0\n"
     ]
    }
   ],
   "source": [
    "print(alignments[0].score)"
   ]
  },
  {
   "cell_type": "code",
   "execution_count": 63,
   "id": "competent-poultry",
   "metadata": {},
   "outputs": [
    {
     "name": "stdout",
     "output_type": "stream",
     "text": [
      "<built-in method center of str object at 0x7fc589a28e00>\n"
     ]
    }
   ],
   "source": [
    "print(p.center)"
   ]
  },
  {
   "cell_type": "code",
   "execution_count": 69,
   "id": "arbitrary-coverage",
   "metadata": {},
   "outputs": [
    {
     "name": "stdout",
     "output_type": "stream",
     "text": [
      "0 0\n",
      "0 1\n",
      "0 2\n",
      "0 3\n",
      "0 4\n",
      "1 0\n",
      "1 1\n",
      "1 2\n",
      "1 3\n",
      "1 4\n",
      "2 0\n",
      "2 1\n",
      "2 2\n",
      "2 3\n",
      "2 4\n",
      "3 0\n",
      "3 1\n",
      "3 2\n",
      "3 3\n",
      "3 4\n",
      "4 0\n",
      "4 1\n",
      "4 2\n",
      "4 3\n",
      "4 4\n"
     ]
    }
   ],
   "source": [
    "for x in range(5):\n",
    "    for y in range(5):\n",
    "        print(x,y)"
   ]
  },
  {
   "cell_type": "code",
   "execution_count": 70,
   "id": "laughing-petersburg",
   "metadata": {},
   "outputs": [
    {
     "name": "stderr",
     "output_type": "stream",
     "text": [
      "/Library/Frameworks/Python.framework/Versions/3.8/lib/python3.8/site-packages/Bio/PDB/PDBParser.py:395: PDBConstructionWarning: Ignoring unrecognized record ' 1684A' at line 1685\n",
      "  warnings.warn(\n",
      "/Library/Frameworks/Python.framework/Versions/3.8/lib/python3.8/site-packages/Bio/PDB/PDBParser.py:395: PDBConstructionWarning: Ignoring unrecognized record ' 1741A' at line 1741\n",
      "  warnings.warn(\n",
      "/Library/Frameworks/Python.framework/Versions/3.8/lib/python3.8/site-packages/Bio/PDB/PDBParser.py:395: PDBConstructionWarning: Ignoring unrecognized record ' 2805A' at line 2804\n",
      "  warnings.warn(\n",
      "/Library/Frameworks/Python.framework/Versions/3.8/lib/python3.8/site-packages/Bio/PDB/PDBParser.py:395: PDBConstructionWarning: Ignoring unrecognized record ' 3522A' at line 3520\n",
      "  warnings.warn(\n",
      "/Library/Frameworks/Python.framework/Versions/3.8/lib/python3.8/site-packages/Bio/PDB/PDBParser.py:395: PDBConstructionWarning: Ignoring unrecognized record ' 8604A' at line 8601\n",
      "  warnings.warn(\n",
      "/Library/Frameworks/Python.framework/Versions/3.8/lib/python3.8/site-packages/Bio/PDB/PDBParser.py:395: PDBConstructionWarning: Ignoring unrecognized record ' 8991 ' at line 8987\n",
      "  warnings.warn(\n",
      "/Library/Frameworks/Python.framework/Versions/3.8/lib/python3.8/site-packages/Bio/SeqIO/PdbIO.py:303: BiopythonParserWarning: 'HEADER' line not found; can't determine PDB ID.\n",
      "  warnings.warn(\n"
     ]
    },
    {
     "name": "stdout",
     "output_type": "stream",
     "text": [
      "CLIDEFDKMNDQDRTSIHEAMEQQSISISKAGIVTTLQARCSIIAAANPNGGRYNSTLPLAQNVSLTEPILSRFDILCVVRDLVDEEADERLATFVVDSHVRSSPIPQELLMKYIHYARTKIYPKLHQMDMDKVSRVYADLRRESISTGSFPITVRHLESILRIAESFAKMRLSEFVSSYDLDRAIKVVVDSFVDAQKVSVRRQLRRSFAI\n",
      "TAQHLNKXVSVEGIVTKTSLVRPKLIRSVHYAAKTGRFHYRDYTDATTTLTTRIPTPAIYPTEDTEGNKLTTEYGYSTFIDHQRITVQEMPEMAPAGQLPRSIDVILDDDLVDKTKPGDRVNVVGVFKSLGAGGMNQSNLIGFKTXRVTIPFLRKYVQYAKERVIPQLTQEAINVIVKNYTDLRNDDNTKKSPITARTLETLIRLATAHAKVRLSKTVNKVDAKVAANLLRFALL\n",
      "LRIIWGTNVSIQECTTNFRNFLMSFKYKFRKILDERDEELYYIKQLNEMRELGTSNLNLDARNLLAYKQTEDLYHQLLNYPQEVISIMDQTIKDCMVSLIVDNNLDYDLDEIETKFYKVRPYNVGSCKGMRELNPNDIDKLINLKGLVLRSTPVIPDMKVAFFKCNVCDHTMAVEIDRGVIQEPARCERIDCNEPNSMSLIHNRCSFADKQVIKLQETPDFVPDGQTPHSISLCVYDELVDSCRAGDRIEVTGTFRSIPIRANSRQRVLKSLYKTYVDVVHVKVSDKRLDVDTSTIEQELMQNKVDHNEVEEVRQITDQDLAKIREVAAREDLYSLLARSIAPSIYELEDVKKGILLQLFGGTNKTFTKGGRYRGDINILLCGDPSTSKSQILQYVHKITPRGVYTSGKGSSAVGLTAYITRDVDTKQLVLESGALVLSDGGVCCIDEFDKMSDSTRSVLHEVMEQQTISIAKAGIITTLNARSSILASANPIGSRYNPNLPVTENIDLPPPLLSRFDLVYLVLDKVDEKNDRELAKHLTNLYLEDKPEHISQDDVLPVEFLTMYISYAKEHIHPIITEAAKTELVRAYVGMRKATTRQLESMIRLAEAHAKMKLKNVVELEDVQEAVRLIRSAIKDYAT\n",
      "SFDRPEIYSAPVLQGESPNDDDNTEIIKSFKNFILEFRLDSQFIYR\n"
     ]
    }
   ],
   "source": [
    "chn_id=\"C\"\n",
    "for record in SeqIO.parse(\"3JA8.pdb\", \"pdb-atom\"):\n",
    "    ref_seq = record.seq\n",
    "    print(ref_seq)"
   ]
  },
  {
   "cell_type": "code",
   "execution_count": 79,
   "id": "adult-romania",
   "metadata": {},
   "outputs": [
    {
     "name": "stderr",
     "output_type": "stream",
     "text": [
      "/Library/Frameworks/Python.framework/Versions/3.8/lib/python3.8/site-packages/Bio/PDB/PDBParser.py:395: PDBConstructionWarning: Ignoring unrecognized record ' 1684A' at line 1685\n",
      "  warnings.warn(\n",
      "/Library/Frameworks/Python.framework/Versions/3.8/lib/python3.8/site-packages/Bio/PDB/PDBParser.py:395: PDBConstructionWarning: Ignoring unrecognized record ' 1741A' at line 1741\n",
      "  warnings.warn(\n",
      "/Library/Frameworks/Python.framework/Versions/3.8/lib/python3.8/site-packages/Bio/PDB/PDBParser.py:395: PDBConstructionWarning: Ignoring unrecognized record ' 2805A' at line 2804\n",
      "  warnings.warn(\n",
      "/Library/Frameworks/Python.framework/Versions/3.8/lib/python3.8/site-packages/Bio/PDB/PDBParser.py:395: PDBConstructionWarning: Ignoring unrecognized record ' 3522A' at line 3520\n",
      "  warnings.warn(\n",
      "/Library/Frameworks/Python.framework/Versions/3.8/lib/python3.8/site-packages/Bio/PDB/PDBParser.py:395: PDBConstructionWarning: Ignoring unrecognized record ' 8604A' at line 8601\n",
      "  warnings.warn(\n",
      "/Library/Frameworks/Python.framework/Versions/3.8/lib/python3.8/site-packages/Bio/PDB/PDBParser.py:395: PDBConstructionWarning: Ignoring unrecognized record ' 8991 ' at line 8987\n",
      "  warnings.warn(\n",
      "/Library/Frameworks/Python.framework/Versions/3.8/lib/python3.8/site-packages/Bio/SeqIO/PdbIO.py:303: BiopythonParserWarning: 'HEADER' line not found; can't determine PDB ID.\n",
      "  warnings.warn(\n"
     ]
    },
    {
     "name": "stdout",
     "output_type": "stream",
     "text": [
      "['A', 'B', 'C', 'D']\n"
     ]
    }
   ],
   "source": [
    "records=SeqIO.parse(\"3JA8.pdb\", \"pdb-atom\")\n",
    "l=[]\n",
    "for record in records:\n",
    "    l.append(record.annotations[\"chain\"])\n",
    "    \n"
   ]
  },
  {
   "cell_type": "code",
   "execution_count": null,
   "id": "fdcd3a1c-628c-4fb9-bb46-ea367ec9ca05",
   "metadata": {},
   "outputs": [],
   "source": [
    "#!/usr/bin/env python3\n",
    "import sys\n",
    "import os\n",
    "from Bio import pairwise2\n",
    "from Bio.Seq import Seq\n",
    "from Bio import SeqIO\n",
    "import Bio.PDB\n",
    "pdb_parser = Bio.PDB.PDBParser(QUIET = True)\n",
    "\n",
    "#load pdbs in \n",
    "ref_id=\"3JA8\"\n",
    "pdb_l=list()\n",
    "clean_f = open(\"pdb_list_clean.dat\")\n",
    "clean = clean_f.read().splitlines()\n",
    "for line in clean:\n",
    "    pdb_l.append(line)\n",
    "clean_f.close()\n",
    "ref_pdb=ref_id+\".pdb\"\n",
    "\n",
    "\n",
    "#align structures to ref\n",
    "\n",
    "#make res sets for ref\n",
    "ref_res_set=set()\n",
    "ref_chn_d = {}\n",
    "ref_chn_l=list()\n",
    "for chn_id in sys.argv[1:]:\n",
    "    ref_chn_l.append(chn_id)\n",
    "##get atoms to align in ref pdb \n",
    "#ref_f = open(ref_pdb, 'r')\n",
    "#for line in ref_f:\n",
    "#    if line.startswith('ATOM'):\n",
    "#        #all res\n",
    "#        ref_res_set.add(line[22:26])\n",
    "#        #each chain\n",
    "#        for chn_id in ref_chn_l:\n",
    "#            if line[21].strip()== chn_id:\n",
    "#                ref_chn_d[chn_id].add(line[22:26])\n",
    "#                if line[12:16].strip()== 'CA':\n",
    "#                    atoms_chm_d[chn_id].add()\n",
    "#ref_f.close()\n",
    "\n",
    "#make dictionary containing the lists of all CA atoms for each chain\n",
    "ref_structure = pdb_parser.get_structure(\"reference\", ref_pdb)\n",
    "ref_model    = ref_structure[0]\n",
    "ref_res_d = {}\n",
    "for chn_id in ref_chn_l:\n",
    "    ref_res_d[\"{0}\".format(chn_id)]=[]\n",
    "    for ref_chain in ref_model:\n",
    "        if ref_chain.get_id().strip() == chn_id:\n",
    "            for ref_res in ref_chain:\n",
    "                try:\n",
    "                    ref_res_d[\"{0}\".format(chn_id)].append(ref_res['CA'])\n",
    "                except:\n",
    "                    continue\n",
    "\n",
    "#get seqs for ref\n",
    "ref_records=SeqIO.parse(ref_pdb, \"pdb-atom\")\n",
    "\n",
    "#align chains\n",
    "for pdb in pdb_l:\n",
    "    pdbf=pdb+\".pdb\"\n",
    "    sample_records=SeqIO.parse(pdbf, \"pdb-atom\")\n",
    "    for chn_id in ref_chn_l:\n",
    "        chain_to_be_aligned=chn_id\n",
    "        sample_structure = pdb_parser.get_structure(\"sample\", pdbf)\n",
    "        \n",
    "        # Use the first model in the pdb-files for alignment for formatting (all pdbs should have 1 model anyway)\n",
    "        sample_model = sample_structure[0]\n",
    "           \n",
    "        sample_atoms = []\n",
    "        for sample_chain in sample_model:\n",
    "            if sample_chain.get_id().strip() == chn_id:\n",
    "                for sample_res in sample_chain:\n",
    "                    try:\n",
    "                        sample_atoms.append(ref_res['CA'])\n",
    "                    except:\n",
    "                        continue\n",
    "\n",
    "        #pairwise seq align to trim based on \n",
    "        for record in ref_records:\n",
    "            if record.annotations[\"chain\"] == chn_id:\n",
    "                ref_seq = record.seq\n",
    "        for record in sample_records:\n",
    "            if record.annotations[\"chain\"] == chn_id:\n",
    "                sample_seq = record.seq\n",
    "\n",
    "            #local finds best matching subseq\n",
    "            alignments = pairwise2.align.localxx(ref_seq, sample_seq)\n",
    "            for alignment in alignments:\n",
    "                print(pairwise2.format_alignment(*alignments[0]))\n",
    "\n",
    "        #trim residues of sample list to match number of atoms in ref list\n",
    "        #or should i align structures based on paired residues? \n",
    "\n",
    "        #align structures \n",
    "        super_imposer = Bio.PDB.Superimposer()\n",
    "        super_imposer.set_atoms(ref_atoms, sample_atoms)\n",
    "        super_imposer.apply(sample_model.get_atoms())\n",
    "\n",
    "        # Print RMSD:\n",
    "        print(super_imposer.rms)\n",
    "        \n",
    "        # Save the aligned version\n",
    "        io = Bio.PDB.PDBIO()\n",
    "        io.set_structure(sample_structure) \n",
    "        io.save(pdb+\"_aligned.pdb\")\t\n"
   ]
  },
  {
   "cell_type": "code",
   "execution_count": 198,
   "id": "bf092c33-f2d3-431c-8eb0-73b5cd004853",
   "metadata": {},
   "outputs": [
    {
     "name": "stdout",
     "output_type": "stream",
     "text": [
      "=================\n",
      "6XTY_ltr - 3JA8\n",
      "Breaking tie between 6XTY_ltr G - 3JA8 6 and 6XTY_ltr E - 3JA8 2 using RMSDs\n",
      "\t 6XTY_ltr G - 3JA8 6 : 27.97909484473687\n",
      "\t 6XTY_ltr E - 3JA8 2 : 23.689201402301183\n",
      "\t 6XTY_ltr E - 3JA8 2 is the better match\n",
      "        pdb samp ref  score\n",
      "0  6XTY_ltr    F   4   78.0\n",
      "1  6XTY_ltr    E   2   57.0\n",
      "2  6XTY_ltr    G   6   57.0\n",
      "3  6XTY_ltr    A   7   49.5\n",
      "4  6XTY_ltr    H   5   48.0\n",
      "5  6XTY_ltr    C   3   41.5\n",
      "\n",
      "changing chain names...\n",
      "\t writing E as 2\n",
      "\t writing C as 3\n",
      "\t writing F as 4\n",
      "\t writing H as 5\n",
      "\t writing G as 6\n",
      "\t writing A as 7\n"
     ]
    }
   ],
   "source": [
    "import os\n",
    "os.chdir(\"/Users/kyleghaby/Desktop/rice/svd/common/get_structures/mcm_test/pdb_bank/aligned/standard_in\")\n",
    "import sys\n",
    "import pandas as pd \n",
    "from Bio import pairwise2\n",
    "from Bio.Seq import Seq\n",
    "from Bio import SeqIO\n",
    "import Bio.PDB\n",
    "import warnings\n",
    "from Bio.PDB.PDBParser import PDBConstructionWarning\n",
    "from Bio.SeqIO.PdbIO import BiopythonParserWarning\n",
    "warnings.simplefilter('ignore', PDBConstructionWarning)\n",
    "warnings.simplefilter('ignore', BiopythonParserWarning)\n",
    "pdb_parser = Bio.PDB.PDBParser(QUIET = True)\n",
    "super_imposer = Bio.PDB.Superimposer()\n",
    "from Bio import Align\n",
    "aligner = Align.PairwiseAligner()\n",
    "from Bio.Align import substitution_matrices\n",
    "\n",
    "#align params based on Smith-Waterman local alignment alg\n",
    "aligner.substitution_matrix = substitution_matrices.load(\"BLOSUM62\")\n",
    "aligner.open_gap_score = -10\n",
    "aligner.extend_gap_score = -0.5\n",
    "aligner.target_end_gap_score = 0.0\n",
    "aligner.query_end_gap_score = 0.0\n",
    "aligner.mode = 'local'\n",
    "#aligner.match_score = 1 #auto\n",
    "#aligner.mismatch_score = 0 #auto\n",
    "\n",
    "def find_res(res_nbr,given_list):\n",
    "    found=False\n",
    "    for y in given_list:\n",
    "        for x in y:\n",
    "            for i in x:\n",
    "                pos=x.index(i)\n",
    "                if (pos % 2) == 0:\n",
    "                    i1=i\n",
    "                else:\n",
    "                    i2=i\n",
    "                    if found == False:\n",
    "                        found=res_nbr in range(i1,i2)\n",
    "                        if found:\n",
    "                            return(found)\n",
    "\n",
    "def min_rmsd(i):\n",
    "    ref_atoms=[]\n",
    "    for ref_chain in ref_model:\n",
    "        if ref_chain.get_id().strip() == df.ref[i]: \n",
    "            for ref_res in ref_chain:\n",
    "                for record in ref_records: #get residue start \n",
    "                    if record.annotations[\"chain\"] == df.ref[i]:\n",
    "                        r_res=(ref_res.id[1]-record.annotations[\"start\"])\n",
    "                r_res_matched_l=r_res_matched_d[\"{0}\".format(str(df.ref[i]+\"_\"+df.samp[i]))]\n",
    "                if find_res(r_res,r_res_matched_l): #if the res is one that was aligned (not a gap)\n",
    "                    try:\n",
    "                        ref_atoms.append(ref_res['CA'])\n",
    "                    except:\n",
    "                        continue              \n",
    "    sample_atoms = []\n",
    "    for sample_chain in sample_model:\n",
    "        if sample_chain.get_id().strip() == df.samp[i]:\n",
    "            for sample_res in sample_chain:\n",
    "                for record in sample_records: #get residue start \n",
    "                    if record.annotations[\"chain\"] == df.samp[i]:\n",
    "                        s_res=(sample_res.id[1]-record.annotations[\"start\"])\n",
    "                s_res_matched_l=s_res_matched_d[\"{0}\".format(str(df.ref[i]+\"_\"+df.samp[i]))]\n",
    "                if find_res(s_res,s_res_matched_l): \n",
    "                    try:\n",
    "                        sample_atoms.append(sample_res['CA'])\n",
    "                    except:\n",
    "                        continue\n",
    "    \n",
    "    super_imposer.set_atoms(ref_atoms, sample_atoms)\n",
    "    super_imposer.apply(sample_model.get_atoms())\n",
    "    return(super_imposer.rms)\n",
    "\n",
    "def rename_chains(pdbfh, chains):\n",
    "    chain_from, chain_to = chains\n",
    "    #records = ('ATOM', 'HETATM', 'TER')\n",
    "    ter = True\n",
    "    for line in pdbfh:\n",
    "        if line.startswith('ATOM'):\n",
    "            if line[21] == chain_from:\n",
    "                yield line[:21] + chain_to + line[22:]\n",
    "                ter = False\n",
    "                continue\n",
    "            else:\n",
    "                continue\n",
    "        elif line.startswith('TER'):\n",
    "            if not ter:\n",
    "                yield 'TER\\n'\n",
    "                ter = True\n",
    "                continue\n",
    "            else:\n",
    "                continue\n",
    "        else:\n",
    "            continue\n",
    "\n",
    "\n",
    "#load pdbs in\n",
    "ref_id=\"3JA8\" #os.thing\n",
    "pdb_l=list()\n",
    "clean_f = open(\"pdb_list_standard_input.dat\")\n",
    "clean = clean_f.read().splitlines()\n",
    "for line in clean:\n",
    "    pdb_l.append(line)\n",
    "clean_f.close()\n",
    "\n",
    "ref_pdb=ref_id+\".pdb\"  \n",
    "ref_structure = pdb_parser.get_structure(\"reference\", ref_pdb)\n",
    "ref_model    = ref_structure[0]\n",
    "\n",
    "#align chains\n",
    "for pdb in pdb_l:\n",
    "    print(\"=================\")\n",
    "    print(pdb,\"-\",ref_id)\n",
    "    nomore=False\n",
    "    #get ref chains (at start of every loop bc its slowly deleted during loop)\n",
    "    ref_chn_l=list()\n",
    "    ref_records=list(SeqIO.parse(ref_pdb, \"pdb-atom\"))\n",
    "    for record in ref_records:\n",
    "        ref_chn_l.append(record.annotations[\"chain\"])\n",
    "    \n",
    "    pdbf=pdb+\".pdb\"\n",
    "    sample_records=list(SeqIO.parse(pdbf, \"pdb-atom\"))\n",
    "    sample_structure = pdb_parser.get_structure(\"sample\", pdbf)\n",
    "    # Use the first model in the pdb-files for alignment for formatting (all pdbs should have 1 model anyway)\n",
    "    sample_model = sample_structure[0]\n",
    "    s_chn_l=list()\n",
    "    ref_matched=''\n",
    "    ref_matched_l=[]\n",
    "    r_res_matched_d={}\n",
    "    s_matched=''\n",
    "    s_matched_l=[]\n",
    "    s_res_matched_d={}\n",
    "    df_best=pd.DataFrame(columns=['pdb', 'samp', 'ref', 'score'])\n",
    "    for s_record in sample_records:\n",
    "        s_chn_l.append(s_record.annotations[\"chain\"])\n",
    "    l_r=len(ref_chn_l)\n",
    "    for nbr_chains in range(l_r):\n",
    "        df=pd.DataFrame(columns=['pdb', 'samp', 'ref', 'score'])\n",
    "        if len(s_chn_l) == 0: #if used all chains in samp already, stop iterating through ref chains\n",
    "            nomore=True\n",
    "            break\n",
    "        for chn_id in ref_chn_l:\n",
    "            bestscore=0\n",
    "            #pairwise seq align\n",
    "            for r_record in ref_records:\n",
    "                if r_record.annotations[\"chain\"] in ref_matched_l: #if record belongs to a chain that was already matched, skip\n",
    "                    continue\n",
    "                if r_record.annotations[\"chain\"] == chn_id:\n",
    "                    ref_seq = r_record.seq\n",
    "            for s_record in sample_records:\n",
    "                if s_record.annotations[\"chain\"] in s_matched_l: #if record belongs to a chain that was already matched, skip\n",
    "                    continue\n",
    "                sample_seq = s_record.seq\n",
    "                #local finds best matching subseq\n",
    "                #alignments = pairwise2.align.localxx(ref_seq, sample_seq) #bad aligner\n",
    "                alignments = aligner.align(ref_seq, sample_seq)\n",
    "                r_res_matched_l=[alignments[0].aligned[0]]\n",
    "                s_res_matched_l=[alignments[0].aligned[1]]\n",
    "                r_res_matched_d[\"{0}\".format(str(chn_id+\"_\"+s_record.annotations[\"chain\"]))]=r_res_matched_l\n",
    "                s_res_matched_d[\"{0}\".format(str(chn_id+\"_\"+s_record.annotations[\"chain\"]))]=s_res_matched_l\n",
    "                score=alignments[0].score\n",
    "                if score > bestscore:\n",
    "                    bestscore=score #newbest\n",
    "                    bestchain=s_record.annotations[\"chain\"].strip()\n",
    "                if s_record.annotations[\"chain\"] == s_chn_l[-1]: #if last chain, append best match to df\n",
    "                    df=df.append({'pdb':pdb, 'samp':bestchain, 'ref':chn_id, 'score':bestscore},ignore_index=True) #best sample-ref matches for all (remaining) chains. may have dup samp chains\n",
    "        #get best match of whole matches to enforce bijection\n",
    "        matches=0\n",
    "        for i in range(len(df)):\n",
    "            if df.score[i] == df.max().score:\n",
    "                matches=matches+1\n",
    "                if matches > 1: #if more than one chain matches...\n",
    "                    #align structures to get rmsd to break tie\n",
    "                    print(\"Breaking tie between\",pdb,df.samp[i],\"-\",ref_id,df.ref[i],\"and\",pdb,df.samp[prev_i],\"-\",ref_id,df.ref[prev_i],\"using RMSDs\")\n",
    "                    i_rmsd=min_rmsd(i)\n",
    "                    prev_i_rmsd=min_rmsd(prev_i)\n",
    "                    print(\"\\t\",pdb,df.samp[i],\"-\",ref_id,df.ref[i],\":\",i_rmsd)\n",
    "                    print(\"\\t\",pdb,df.samp[prev_i],\"-\",ref_id,df.ref[prev_i],\":\",prev_i_rmsd)\n",
    "                    if i_rmsd < prev_i_rmsd: #smaller RMSD => better match\n",
    "                        print('\\t\\t',pdb,df.samp[i],\"-\",ref_id,df.ref[i],'is the better match, so these chains are getting credit first.')\n",
    "                        s_matched=df.samp[i]\n",
    "                        ref_matched=df.ref[i]\n",
    "                        sc=df.score[i]\n",
    "                        prev_i=i #last i to match\n",
    "                        continue\n",
    "                    elif i_rmsd > prev_i_rmsd:\n",
    "                        print('\\t',pdb,df.samp[prev_i],\"-\",ref_id,df.ref[prev_i],\"is the better match\")\n",
    "                        continue #all variables already set from the first matching loop\n",
    "                    elif i_rmsd == prev_i_rmsd:\n",
    "                        print(\"WARNING: cant tie break due to equal RMSDs. using first match\")\n",
    "                        print('\\t',\"i-row:\",df[i])\n",
    "                        print('\\t',\"prev_i-row:\",df[prev_i])\n",
    "                        print(\"i didnt think this would happen...\")\n",
    "                        print(\"if you want to add another tiebreaker, add another if statement to code/align_chains_v2.py under '#other tie breakers here'\")\n",
    "                        #other tie breakers here\n",
    "                        continue\n",
    "                s_matched=df.samp[i]\n",
    "                ref_matched=df.ref[i]\n",
    "                sc=df.score[i]\n",
    "                prev_i=i #last i to match\n",
    "        df_best=df_best.append({'pdb':pdb, 'samp':s_matched, 'ref':ref_matched, 'score':sc},ignore_index=True)\n",
    "        #remove matched chains before next iteration\n",
    "        ref_chn_l.remove(ref_matched)\n",
    "        s_chn_l.remove(s_matched)\n",
    "        ref_matched_l.append(ref_matched)\n",
    "        s_matched_l.append(s_matched)\n",
    "    print(df_best)\n",
    "    if nomore:\n",
    "        print(\"no more chains in sample pdb\",pdb,\"to compare to ref pdb\",ref_id)\n",
    "    if len(df_best) > l_r:\n",
    "        print(\"WARNING: df_best (ie the printed table ie best of the best matches) for\",pdb,\"contains more rows(\",len(df_best),\") than chains in reference (\",l_r,\"), implying nonbijective matching. Skipping\")\n",
    "        continue\n",
    "    \n",
    "    #rename chains based on df_best and only keep matched chains\n",
    "    print('\\nchanging chain names...')\n",
    "    pdb_stndrd = open(\"{}_stndrd.pdb\".format(pdb), \"a\")\n",
    "    \n",
    "    ref_chains_ordered = sorted(ref_matched_l)\n",
    "    for chain_to in ref_chains_ordered: #each match in alphabetical/numerical order\n",
    "        pdbfh = open(pdbf, 'r')\n",
    "        try:\n",
    "            chain_from=df_best.loc[df_best['ref'] == chain_to, 'samp'].iloc[0]\n",
    "        except:\n",
    "            continue\n",
    "        chains = (chain_from,chain_to) \n",
    "        print('\\t',\"writing {0} as {1}\".format(chain_from,chain_to))\n",
    "        renamed_chain = rename_chains(pdbfh, chains)\n",
    "        for line in renamed_chain:\n",
    "            pdb_stndrd.write(line) \n",
    "        pdbfh.close()\n",
    "    pdb_stndrd.close()\n",
    "    \n",
    "    \n",
    "        \n"
   ]
  },
  {
   "cell_type": "code",
   "execution_count": 194,
   "id": "b52c33a1-a48b-4053-a4ef-09239aa9c99e",
   "metadata": {},
   "outputs": [
    {
     "data": {
      "text/plain": [
       "['LEXP',\n",
       " 'LOP',\n",
       " '__call__',\n",
       " '__class__',\n",
       " '__delattr__',\n",
       " '__dict__',\n",
       " '__dir__',\n",
       " '__doc__',\n",
       " '__eq__',\n",
       " '__format__',\n",
       " '__ge__',\n",
       " '__getattribute__',\n",
       " '__gt__',\n",
       " '__hash__',\n",
       " '__init__',\n",
       " '__init_subclass__',\n",
       " '__le__',\n",
       " '__lt__',\n",
       " '__module__',\n",
       " '__ne__',\n",
       " '__new__',\n",
       " '__reduce__',\n",
       " '__reduce_ex__',\n",
       " '__repr__',\n",
       " '__setattr__',\n",
       " '__sizeof__',\n",
       " '__str__',\n",
       " '__subclasshook__',\n",
       " '__weakref__',\n",
       " '_check_value',\n",
       " '_clear_parameter',\n",
       " '_get_parameter',\n",
       " '_validate',\n",
       " 'aamatrix',\n",
       " 'adjustdirection',\n",
       " 'adjustdirectionaccurately',\n",
       " 'amino',\n",
       " 'auto',\n",
       " 'bl',\n",
       " 'clustalout',\n",
       " 'dpparttree',\n",
       " 'ep',\n",
       " 'fastapair',\n",
       " 'fastaparttree',\n",
       " 'fft',\n",
       " 'fmodel',\n",
       " 'genafpair',\n",
       " 'globalpair',\n",
       " 'groupsize',\n",
       " 'input',\n",
       " 'input1',\n",
       " 'inputorder',\n",
       " 'jtt',\n",
       " 'lep',\n",
       " 'lexp',\n",
       " 'localpair',\n",
       " 'lop',\n",
       " 'maxiterate',\n",
       " 'memsave',\n",
       " 'namelength',\n",
       " 'nofft',\n",
       " 'noscore',\n",
       " 'nuc',\n",
       " 'op',\n",
       " 'parameters',\n",
       " 'partsize',\n",
       " 'parttree',\n",
       " 'phylipout',\n",
       " 'program_name',\n",
       " 'quiet',\n",
       " 'reorder',\n",
       " 'retree',\n",
       " 'seed',\n",
       " 'set_parameter',\n",
       " 'sixmerpair',\n",
       " 'thread',\n",
       " 'tm',\n",
       " 'treeout',\n",
       " 'weighti']"
      ]
     },
     "execution_count": 194,
     "metadata": {},
     "output_type": "execute_result"
    }
   ],
   "source": [
    "import os\n",
    "from Bio import pairwise2, SeqIO, AlignIO\n",
    "from Bio.Seq import Seq\n",
    "from Bio.Align import MultipleSeqAlignment\n",
    "from Bio.SeqRecord import SeqRecord\n",
    "\n",
    "align = MultipleSeqAlignment([])\n",
    "\n",
    "#align settings\n",
    "from Bio.Align.Applications import MafftCommandline\n",
    "mafft_cline = MafftCommandline(\"mafft\", input=\"align_input.fasta\")\n",
    "dir(mafft_cline)\n",
    "#mafft_cline.lop = -10.0\n"
   ]
  },
  {
   "cell_type": "code",
   "execution_count": 192,
   "id": "952a3895-ef48-4e15-9d98-a063be02b360",
   "metadata": {},
   "outputs": [
    {
     "name": "stdout",
     "output_type": "stream",
     "text": [
      "<generator object rename_chains at 0x7f99058dfac0>\n"
     ]
    }
   ],
   "source": [
    "print(rename_chains(pdbf, chains))"
   ]
  },
  {
   "cell_type": "code",
   "execution_count": 168,
   "id": "c04ff452-73a5-4978-bdd5-fcde1ad7ac19",
   "metadata": {},
   "outputs": [
    {
     "name": "stdout",
     "output_type": "stream",
     "text": [
      "   samp ref\n",
      "0     1   A\n",
      "1     2   B\n"
     ]
    }
   ],
   "source": [
    "from pandas import util\n",
    "import pandas as pd\n",
    "#df= util.testing.makeDataFrame()\n",
    "df=pd.DataFrame([(1,\"A\"),(2,\"B\")])\n",
    "#x=df.query('B==')['A']\n",
    "#x=df.loc[df['B'].('1.340167'), ['A']]i\n",
    "df.columns =['samp','ref']\n",
    "#x=df['B'].apply(str)\n",
    "#print(x)\n",
    "l=list()\n",
    "l.append(\"A\")\n",
    "l.append(1)\n",
    "l.append(\"B\")\n",
    "for w in l:\n",
    "    try:\n",
    "        y=df.loc[df['samp'] == 1, 'ref'].iloc[0]\n",
    "        print(w,y)\n",
    "    except:\n",
    "        continue\n",
    "    print(\"test\")\n",
    "\n",
    "#print(df['A'][df['B'] == 1.340167])\n",
    "print(df)"
   ]
  },
  {
   "cell_type": "code",
   "execution_count": 186,
   "id": "55d74278-3f95-4ccc-be1d-bba21ca16f44",
   "metadata": {},
   "outputs": [
    {
     "name": "stdout",
     "output_type": "stream",
     "text": [
      "['7', '6', '5', '4', '3', '2']\n",
      "['1', '4', 'A', 'D', 'E', 'F', 'G']\n"
     ]
    }
   ],
   "source": [
    "if sorted(ref_matched_l) == None:\n",
    "    print(1)\n",
    "    y=sorted(ref_matched_l, key = int)\n",
    "else:\n",
    "    y=sorted(ref_matched_l, reverse=True)\n",
    "#y=sorted(ref_matched_l, key = int)#ref_matched_l.sort(key=int)\n",
    "print(y)\n",
    "l=['F','A','D','E','G','1','4']\n",
    "print(sorted(l))"
   ]
  },
  {
   "cell_type": "code",
   "execution_count": 20,
   "id": "84e2f4c9-e81a-4b42-835d-26ccab9e0c87",
   "metadata": {},
   "outputs": [
    {
     "ename": "KeyboardInterrupt",
     "evalue": "",
     "output_type": "error",
     "traceback": [
      "\u001b[0;31m---------------------------------------------------------------------------\u001b[0m",
      "\u001b[0;31mKeyboardInterrupt\u001b[0m                         Traceback (most recent call last)",
      "\u001b[0;32m<ipython-input-20-f5a32d0accae>\u001b[0m in \u001b[0;36m<module>\u001b[0;34m\u001b[0m\n\u001b[0;32m----> 1\u001b[0;31m \u001b[0;32mfrom\u001b[0m \u001b[0mBio\u001b[0m \u001b[0;32mimport\u001b[0m \u001b[0mAlign\u001b[0m\u001b[0;34m\u001b[0m\u001b[0;34m\u001b[0m\u001b[0m\n\u001b[0m\u001b[1;32m      2\u001b[0m \u001b[0;32mfrom\u001b[0m \u001b[0mBio\u001b[0m\u001b[0;34m.\u001b[0m\u001b[0mAlign\u001b[0m \u001b[0;32mimport\u001b[0m \u001b[0msubstitution_matrices\u001b[0m\u001b[0;34m\u001b[0m\u001b[0;34m\u001b[0m\u001b[0m\n\u001b[1;32m      3\u001b[0m \u001b[0maligner\u001b[0m\u001b[0;34m.\u001b[0m\u001b[0msubstitution_matrix\u001b[0m \u001b[0;34m=\u001b[0m \u001b[0msubstitution_matrices\u001b[0m\u001b[0;34m.\u001b[0m\u001b[0mload\u001b[0m\u001b[0;34m(\u001b[0m\u001b[0;34m\"BLOSUM62\"\u001b[0m\u001b[0;34m)\u001b[0m\u001b[0;34m\u001b[0m\u001b[0;34m\u001b[0m\u001b[0m\n\u001b[1;32m      4\u001b[0m \u001b[0maligner\u001b[0m \u001b[0;34m=\u001b[0m \u001b[0mAlign\u001b[0m\u001b[0;34m.\u001b[0m\u001b[0mPairwiseAligner\u001b[0m\u001b[0;34m(\u001b[0m\u001b[0;34m)\u001b[0m\u001b[0;34m\u001b[0m\u001b[0;34m\u001b[0m\u001b[0m\n\u001b[1;32m      5\u001b[0m \u001b[0maligner\u001b[0m\u001b[0;34m.\u001b[0m\u001b[0mopen_gap_score\u001b[0m \u001b[0;34m=\u001b[0m \u001b[0;34m-\u001b[0m\u001b[0;36m10\u001b[0m\u001b[0;34m\u001b[0m\u001b[0;34m\u001b[0m\u001b[0m\n",
      "\u001b[0;32m/Library/Frameworks/Python.framework/Versions/3.8/lib/python3.8/site-packages/Bio/Align/__init__.py\u001b[0m in \u001b[0;36m<module>\u001b[0;34m\u001b[0m\n\u001b[1;32m     19\u001b[0m \u001b[0;32mfrom\u001b[0m \u001b[0mBio\u001b[0m \u001b[0;32mimport\u001b[0m \u001b[0mBiopythonDeprecationWarning\u001b[0m\u001b[0;34m\u001b[0m\u001b[0;34m\u001b[0m\u001b[0m\n\u001b[1;32m     20\u001b[0m \u001b[0;32mfrom\u001b[0m \u001b[0mBio\u001b[0m\u001b[0;34m.\u001b[0m\u001b[0mAlign\u001b[0m \u001b[0;32mimport\u001b[0m \u001b[0m_aligners\u001b[0m\u001b[0;34m\u001b[0m\u001b[0;34m\u001b[0m\u001b[0m\n\u001b[0;32m---> 21\u001b[0;31m \u001b[0;32mfrom\u001b[0m \u001b[0mBio\u001b[0m\u001b[0;34m.\u001b[0m\u001b[0mAlign\u001b[0m \u001b[0;32mimport\u001b[0m \u001b[0msubstitution_matrices\u001b[0m\u001b[0;34m\u001b[0m\u001b[0;34m\u001b[0m\u001b[0m\n\u001b[0m\u001b[1;32m     22\u001b[0m \u001b[0;32mfrom\u001b[0m \u001b[0mBio\u001b[0m\u001b[0;34m.\u001b[0m\u001b[0mSeq\u001b[0m \u001b[0;32mimport\u001b[0m \u001b[0mSeq\u001b[0m\u001b[0;34m\u001b[0m\u001b[0;34m\u001b[0m\u001b[0m\n\u001b[1;32m     23\u001b[0m \u001b[0;32mfrom\u001b[0m \u001b[0mBio\u001b[0m\u001b[0;34m.\u001b[0m\u001b[0mSeqRecord\u001b[0m \u001b[0;32mimport\u001b[0m \u001b[0mSeqRecord\u001b[0m\u001b[0;34m,\u001b[0m \u001b[0m_RestrictedDict\u001b[0m\u001b[0;34m\u001b[0m\u001b[0;34m\u001b[0m\u001b[0m\n",
      "\u001b[0;32m/Library/Frameworks/Python.framework/Versions/3.8/lib/python3.8/site-packages/Bio/Align/substitution_matrices/__init__.py\u001b[0m in \u001b[0;36m<module>\u001b[0;34m\u001b[0m\n\u001b[1;32m     10\u001b[0m \u001b[0;32mimport\u001b[0m \u001b[0mos\u001b[0m\u001b[0;34m\u001b[0m\u001b[0;34m\u001b[0m\u001b[0m\n\u001b[1;32m     11\u001b[0m \u001b[0;32mimport\u001b[0m \u001b[0mstring\u001b[0m\u001b[0;34m\u001b[0m\u001b[0;34m\u001b[0m\u001b[0m\n\u001b[0;32m---> 12\u001b[0;31m \u001b[0;32mimport\u001b[0m \u001b[0mnumpy\u001b[0m\u001b[0;34m\u001b[0m\u001b[0;34m\u001b[0m\u001b[0m\n\u001b[0m\u001b[1;32m     13\u001b[0m \u001b[0;34m\u001b[0m\u001b[0m\n\u001b[1;32m     14\u001b[0m \u001b[0;34m\u001b[0m\u001b[0m\n",
      "\u001b[0;32m/Library/Frameworks/Python.framework/Versions/3.8/lib/python3.8/site-packages/numpy/__init__.py\u001b[0m in \u001b[0;36m<module>\u001b[0;34m\u001b[0m\n\u001b[1;32m    143\u001b[0m     \u001b[0;32mfrom\u001b[0m \u001b[0;34m.\u001b[0m \u001b[0;32mimport\u001b[0m \u001b[0m_distributor_init\u001b[0m\u001b[0;34m\u001b[0m\u001b[0;34m\u001b[0m\u001b[0m\n\u001b[1;32m    144\u001b[0m \u001b[0;34m\u001b[0m\u001b[0m\n\u001b[0;32m--> 145\u001b[0;31m     \u001b[0;32mfrom\u001b[0m \u001b[0;34m.\u001b[0m \u001b[0;32mimport\u001b[0m \u001b[0mcore\u001b[0m\u001b[0;34m\u001b[0m\u001b[0;34m\u001b[0m\u001b[0m\n\u001b[0m\u001b[1;32m    146\u001b[0m     \u001b[0;32mfrom\u001b[0m \u001b[0;34m.\u001b[0m\u001b[0mcore\u001b[0m \u001b[0;32mimport\u001b[0m \u001b[0;34m*\u001b[0m\u001b[0;34m\u001b[0m\u001b[0;34m\u001b[0m\u001b[0m\n\u001b[1;32m    147\u001b[0m     \u001b[0;32mfrom\u001b[0m \u001b[0;34m.\u001b[0m \u001b[0;32mimport\u001b[0m \u001b[0mcompat\u001b[0m\u001b[0;34m\u001b[0m\u001b[0;34m\u001b[0m\u001b[0m\n",
      "\u001b[0;32m/Library/Frameworks/Python.framework/Versions/3.8/lib/python3.8/site-packages/numpy/core/__init__.py\u001b[0m in \u001b[0;36m<module>\u001b[0;34m\u001b[0m\n\u001b[1;32m     20\u001b[0m \u001b[0;34m\u001b[0m\u001b[0m\n\u001b[1;32m     21\u001b[0m \u001b[0;32mtry\u001b[0m\u001b[0;34m:\u001b[0m\u001b[0;34m\u001b[0m\u001b[0;34m\u001b[0m\u001b[0m\n\u001b[0;32m---> 22\u001b[0;31m     \u001b[0;32mfrom\u001b[0m \u001b[0;34m.\u001b[0m \u001b[0;32mimport\u001b[0m \u001b[0mmultiarray\u001b[0m\u001b[0;34m\u001b[0m\u001b[0;34m\u001b[0m\u001b[0m\n\u001b[0m\u001b[1;32m     23\u001b[0m \u001b[0;32mexcept\u001b[0m \u001b[0mImportError\u001b[0m \u001b[0;32mas\u001b[0m \u001b[0mexc\u001b[0m\u001b[0;34m:\u001b[0m\u001b[0;34m\u001b[0m\u001b[0;34m\u001b[0m\u001b[0m\n\u001b[1;32m     24\u001b[0m     \u001b[0;32mimport\u001b[0m \u001b[0msys\u001b[0m\u001b[0;34m\u001b[0m\u001b[0;34m\u001b[0m\u001b[0m\n",
      "\u001b[0;32m/Library/Frameworks/Python.framework/Versions/3.8/lib/python3.8/site-packages/numpy/core/multiarray.py\u001b[0m in \u001b[0;36m<module>\u001b[0;34m\u001b[0m\n\u001b[1;32m     10\u001b[0m \u001b[0;32mimport\u001b[0m \u001b[0mwarnings\u001b[0m\u001b[0;34m\u001b[0m\u001b[0;34m\u001b[0m\u001b[0m\n\u001b[1;32m     11\u001b[0m \u001b[0;34m\u001b[0m\u001b[0m\n\u001b[0;32m---> 12\u001b[0;31m \u001b[0;32mfrom\u001b[0m \u001b[0;34m.\u001b[0m \u001b[0;32mimport\u001b[0m \u001b[0moverrides\u001b[0m\u001b[0;34m\u001b[0m\u001b[0;34m\u001b[0m\u001b[0m\n\u001b[0m\u001b[1;32m     13\u001b[0m \u001b[0;32mfrom\u001b[0m \u001b[0;34m.\u001b[0m \u001b[0;32mimport\u001b[0m \u001b[0m_multiarray_umath\u001b[0m\u001b[0;34m\u001b[0m\u001b[0;34m\u001b[0m\u001b[0m\n\u001b[1;32m     14\u001b[0m \u001b[0;32mfrom\u001b[0m \u001b[0;34m.\u001b[0m\u001b[0m_multiarray_umath\u001b[0m \u001b[0;32mimport\u001b[0m \u001b[0;34m*\u001b[0m  \u001b[0;31m# noqa: F403\u001b[0m\u001b[0;34m\u001b[0m\u001b[0;34m\u001b[0m\u001b[0m\n",
      "\u001b[0;32m/Library/Frameworks/Python.framework/Versions/3.8/lib/python3.8/site-packages/numpy/core/overrides.py\u001b[0m in \u001b[0;36m<module>\u001b[0;34m\u001b[0m\n\u001b[1;32m      5\u001b[0m \u001b[0;32mimport\u001b[0m \u001b[0mtextwrap\u001b[0m\u001b[0;34m\u001b[0m\u001b[0;34m\u001b[0m\u001b[0m\n\u001b[1;32m      6\u001b[0m \u001b[0;34m\u001b[0m\u001b[0m\n\u001b[0;32m----> 7\u001b[0;31m from numpy.core._multiarray_umath import (\n\u001b[0m\u001b[1;32m      8\u001b[0m     add_docstring, implement_array_function, _get_implementing_args)\n\u001b[1;32m      9\u001b[0m \u001b[0;32mfrom\u001b[0m \u001b[0mnumpy\u001b[0m\u001b[0;34m.\u001b[0m\u001b[0mcompat\u001b[0m\u001b[0;34m.\u001b[0m\u001b[0m_inspect\u001b[0m \u001b[0;32mimport\u001b[0m \u001b[0mgetargspec\u001b[0m\u001b[0;34m\u001b[0m\u001b[0;34m\u001b[0m\u001b[0m\n",
      "\u001b[0;31mKeyboardInterrupt\u001b[0m: "
     ]
    }
   ],
   "source": [
    "from Bio import Align\n",
    "from Bio.Align import substitution_matrices\n",
    "aligner.substitution_matrix = substitution_matrices.load(\"BLOSUM62\")\n",
    "aligner = Align.PairwiseAligner()\n",
    "aligner.open_gap_score = -10\n",
    "aligner.extend_gap_score = -0.5\n",
    "aligner.target_end_gap_score = 0.0\n",
    "aligner.query_end_gap_score = 0.0\n",
    "aligner.mode = 'local'\n",
    "alignments = aligner.align(ref_seq, \n",
    "                           \"MVLSGEDKSNIKAAWGKIGGHGAEYGAEALERMFASFPTTKTYFPHFDVSHGSAQVKGHGKKVADALASAAGHLDDLPGALSALSDLHAHKLRVDPVNFKLLSHCLLVTLASHHPADFTPAVHASLDKFLASVSTVLTSKYR\")\n",
    "score=alignments[0].score\n",
    "print(alignments[0])\n",
    "print(alignments[0].aligned)\n",
    "print(score)"
   ]
  },
  {
   "cell_type": "code",
   "execution_count": null,
   "id": "6f0a6854-842d-4d6e-953b-d17afebdb0d0",
   "metadata": {},
   "outputs": [],
   "source": [
    "import pandas as pd\n",
    "pd.DataFrame"
   ]
  }
 ],
 "metadata": {
  "kernelspec": {
   "display_name": "Python 3",
   "language": "python",
   "name": "python3"
  },
  "language_info": {
   "codemirror_mode": {
    "name": "ipython",
    "version": 3
   },
   "file_extension": ".py",
   "mimetype": "text/x-python",
   "name": "python",
   "nbconvert_exporter": "python",
   "pygments_lexer": "ipython3",
   "version": "3.8.1"
  }
 },
 "nbformat": 4,
 "nbformat_minor": 5
}
